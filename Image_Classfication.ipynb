{
  "nbformat": 4,
  "nbformat_minor": 0,
  "metadata": {
    "colab": {
      "name": "Emanuele_Mincato_HW2.ipynb",
      "provenance": [],
      "collapsed_sections": []
    },
    "kernelspec": {
      "display_name": "Python 3",
      "name": "python3"
    },
    "accelerator": "GPU"
  },
  "cells": [
    {
      "cell_type": "markdown",
      "metadata": {
        "id": "QUc9frYnVBI_"
      },
      "source": [
        "#**Optimize and train Deep Models**\n",
        "\n",
        "In this homework, we will explore how to develop a simple Deep Neural Network for a classification problem. We will explore two common libraries: TensorFlow and Keras.\n",
        "Then we will explore how to face a well known problem that is common to encounter during the training phase: the Overfitting.\n",
        "Finally, we will study how to perform a fair model selection.\n",
        "Hint: Before starting the exercise take a look at how Tensorflow and Keras are designed.  https://keras.io/"
      ]
    },
    {
      "cell_type": "markdown",
      "metadata": {
        "id": "e-Nc7mFSVEiU"
      },
      "source": [
        "##Image Classficiation with Tensorflow and Keras\n",
        "\n",
        "In this first exercise we will develop a 3 layers Neural Network to perfrom classification.\n",
        "\n",
        "Let's start importing the libraries we will need and setting a couple of environmental variables.\n"
      ]
    },
    {
      "cell_type": "code",
      "metadata": {
        "id": "bWn9FzneVqJo"
      },
      "source": [
        "import matplotlib as mpl\n",
        "import matplotlib.pyplot as plt\n",
        "import numpy as np\n",
        "import os\n",
        "import pandas as pd\n",
        "import sklearn\n",
        "import sys\n",
        "import tensorflow as tf\n",
        "from tensorflow import keras  # tf.keras\n",
        "import time\n",
        "\n",
        "import logging\n",
        "logging.disable(logging.WARNING)\n",
        "os.environ[\"TF_CPP_MIN_LOG_LEVEL\"] = \"3\" \n",
        "\n",
        "\n",
        "\n",
        "tf.random.set_seed(42)\n",
        "# os.environ['TF_DETERMINISTIC_OPS']='1'"
      ],
      "execution_count": null,
      "outputs": []
    },
    {
      "cell_type": "markdown",
      "metadata": {
        "id": "LT2HMYDEXcx0"
      },
      "source": [
        "### Load Data: IMDB dataset\n",
        "\n",
        "In this HW, we use the IMDB dataset that can be easily downloaded using Keras. The dataset contains 50,000 movie reviews from IMDB, labeled by sentiment (positive/negative). Reviews have been preprocessed, and each review is encoded as a sequence of word indexes. For convenience, the words are indexed by the overall frequency in the dataset, so that for example the integer \"3\" encodes the 3rd most frequent word in the data. For testing purposes, we will only consider the first 10,000  most common words.\n",
        "By default, the load_data method returns a breakdown of the dataset into training and test sets. Both these sets contain 25,000 samples. To also have a validation set, we split the test set in half.\n",
        "\n"
      ]
    },
    {
      "cell_type": "code",
      "metadata": {
        "id": "JZv86gBLXj-D",
        "colab": {
          "base_uri": "https://localhost:8080/"
        },
        "outputId": "0cc43a01-9863-4419-92ee-bbe452573206"
      },
      "source": [
        "num_words = 1000\n",
        "(X_train, y_train), (X_test, y_test) = keras.datasets.imdb.load_data(num_words=num_words)\n",
        "(X_valid, X_test) = X_test[:12500], X_test[12500:]\n",
        "(y_valid, y_test) = y_test[:12500], y_test[12500:]"
      ],
      "execution_count": null,
      "outputs": [
        {
          "output_type": "stream",
          "text": [
            "<string>:6: VisibleDeprecationWarning: Creating an ndarray from ragged nested sequences (which is a list-or-tuple of lists-or-tuples-or ndarrays with different lengths or shapes) is deprecated. If you meant to do this, you must specify 'dtype=object' when creating the ndarray\n",
            "/usr/local/lib/python3.7/dist-packages/tensorflow/python/keras/datasets/imdb.py:159: VisibleDeprecationWarning: Creating an ndarray from ragged nested sequences (which is a list-or-tuple of lists-or-tuples-or ndarrays with different lengths or shapes) is deprecated. If you meant to do this, you must specify 'dtype=object' when creating the ndarray\n",
            "  x_train, y_train = np.array(xs[:idx]), np.array(labels[:idx])\n",
            "/usr/local/lib/python3.7/dist-packages/tensorflow/python/keras/datasets/imdb.py:160: VisibleDeprecationWarning: Creating an ndarray from ragged nested sequences (which is a list-or-tuple of lists-or-tuples-or ndarrays with different lengths or shapes) is deprecated. If you meant to do this, you must specify 'dtype=object' when creating the ndarray\n",
            "  x_test, y_test = np.array(xs[idx:]), np.array(labels[idx:])\n"
          ],
          "name": "stderr"
        }
      ]
    },
    {
      "cell_type": "markdown",
      "metadata": {
        "id": "TEZHVHpuPdQF"
      },
      "source": [
        "In this HW we will consider a Deep Neural Network. The IMDB data consists in reviews, each one composed by a seqeunce of words. In order to encode each review in a single tensor with a fixed number of elements, we will use multi-hot encoding. Multi-hot-encoding our lists means turning them into vectors of 0s and 1s. Concretely, this would mean for instance turning the sequence [3, 5] into a 10,000-dimensional vector that would be all-zeros except for indices 3 and 5, which would be ones. The obtained input representation indicates which words are present (at least one time) in the sentence.\n",
        "\n",
        " "
      ]
    },
    {
      "cell_type": "code",
      "metadata": {
        "id": "hxE9DhiFPP0T"
      },
      "source": [
        "def multi_hot_encoder(dataset, num_word):\n",
        "  dataset_multi_hot=[]\n",
        "  for sequence in dataset:\n",
        "    index, _ = tf.unique(sequence)\n",
        "    dataset_multi_hot.append(tf.reduce_max(tf.one_hot(index-1, num_word, dtype=tf.int32), axis=0))\n",
        "  dataset_multi_hot = tf.stack(dataset_multi_hot)\n",
        "  return dataset_multi_hot\n",
        "\n",
        "X_train = multi_hot_encoder(X_train,num_words)\n",
        "X_test = multi_hot_encoder(X_test,num_words)\n",
        "X_valid = multi_hot_encoder(X_valid,num_words)"
      ],
      "execution_count": null,
      "outputs": []
    },
    {
      "cell_type": "markdown",
      "metadata": {
        "id": "jGUg8TexZMNf"
      },
      "source": [
        "### Define the model:\n",
        "\n",
        "Let's build a Sequential model (keras.models.Sequential) and add four layers to it by calling its add() method:\n",
        "\n",
        "\n",
        "*   a input layer (tf.keras.Input) that is the first layer in your model. With this layer you should specify the input_shape argument, leaving out the batch size: (num_words,);\n",
        "*  a Dense layer (keras.layers.Dense) with 16 neurons, and the \"relu\" activation function;\n",
        "* another Dense layer with 16 neurons, also with the \"relu\" activation function;\n",
        "* a final Dense layer with 1 output neurons, and with the \"sigmoid\" activation (since we considering a binary classification task)."
      ]
    },
    {
      "cell_type": "code",
      "metadata": {
        "id": "OaoEISyaZL56"
      },
      "source": [
        "model = keras.models.Sequential()\n",
        "model.add(tf.keras.Input(shape=(num_words,)))\n",
        "model.add(keras.layers.Dense(16, activation=\"relu\"))\n",
        "model.add(keras.layers.Dense(16, activation=\"relu\"))\n",
        "model.add(keras.layers.Dense(1, activation=\"sigmoid\"))\n",
        "\n"
      ],
      "execution_count": null,
      "outputs": []
    },
    {
      "cell_type": "markdown",
      "metadata": {
        "id": "fYfxUOQVZljh"
      },
      "source": [
        "Call the model's summary() method to check if the model has been built correctly. Also, try using keras.utils.plot_model() to save an image of your model's architecture."
      ]
    },
    {
      "cell_type": "code",
      "metadata": {
        "id": "IpGkQl5dZoWq",
        "colab": {
          "base_uri": "https://localhost:8080/"
        },
        "outputId": "c064b17e-ff95-4d5e-f72d-48087a6e9ea4"
      },
      "source": [
        "model.summary()"
      ],
      "execution_count": null,
      "outputs": [
        {
          "output_type": "stream",
          "text": [
            "Model: \"sequential_41\"\n",
            "_________________________________________________________________\n",
            "Layer (type)                 Output Shape              Param #   \n",
            "=================================================================\n",
            "dense_128 (Dense)            (None, 16)                16016     \n",
            "_________________________________________________________________\n",
            "dense_129 (Dense)            (None, 16)                272       \n",
            "_________________________________________________________________\n",
            "dense_130 (Dense)            (None, 1)                 17        \n",
            "=================================================================\n",
            "Total params: 16,305\n",
            "Trainable params: 16,305\n",
            "Non-trainable params: 0\n",
            "_________________________________________________________________\n"
          ],
          "name": "stdout"
        }
      ]
    },
    {
      "cell_type": "code",
      "metadata": {
        "id": "b1NbkrXRZwOA",
        "colab": {
          "base_uri": "https://localhost:8080/",
          "height": 422
        },
        "outputId": "9eea5cde-ed90-4193-ae0e-b644326cae21"
      },
      "source": [
        "keras.utils.plot_model(model, \"my_imdb_model.png\", show_shapes=True)"
      ],
      "execution_count": null,
      "outputs": [
        {
          "output_type": "execute_result",
          "data": {
            "image/png": "[encoded data removed]",
            "text/plain": [
              "<IPython.core.display.Image object>"
            ]
          },
          "metadata": {
            "tags": []
          },
          "execution_count": 31
        }
      ]
    },
    {
      "cell_type": "markdown",
      "metadata": {
        "id": "Mc3xzuA-33WH"
      },
      "source": [
        "As you can see, the first dimension of each layer is not defined (?), indeed this dimension in each layer is variable and depends on the batch size."
      ]
    },
    {
      "cell_type": "markdown",
      "metadata": {
        "id": "6FAjFixuHSA_"
      },
      "source": [
        "Instaed of using *add()* method it is also possibile to define the model using the following syntax"
      ]
    },
    {
      "cell_type": "code",
      "metadata": {
        "id": "yOhr57M9GPHy",
        "colab": {
          "base_uri": "https://localhost:8080/",
          "height": 658
        },
        "outputId": "5344268a-2792-4615-d693-d32470ab3e60"
      },
      "source": [
        "model = keras.models.Sequential([\n",
        "    tf.keras.Input(shape=(num_words,)),\n",
        "    keras.layers.Dense(16, activation=\"relu\"),\n",
        "    keras.layers.Dense(16, activation=\"relu\"),\n",
        "    keras.layers.Dense(1, activation=\"sigmoid\")\n",
        "])\n",
        "model.summary()\n",
        "keras.utils.plot_model(model, \"my_imdb_model.png\", show_shapes=True)"
      ],
      "execution_count": null,
      "outputs": [
        {
          "output_type": "stream",
          "text": [
            "Model: \"sequential_42\"\n",
            "_________________________________________________________________\n",
            "Layer (type)                 Output Shape              Param #   \n",
            "=================================================================\n",
            "dense_131 (Dense)            (None, 16)                16016     \n",
            "_________________________________________________________________\n",
            "dense_132 (Dense)            (None, 16)                272       \n",
            "_________________________________________________________________\n",
            "dense_133 (Dense)            (None, 1)                 17        \n",
            "=================================================================\n",
            "Total params: 16,305\n",
            "Trainable params: 16,305\n",
            "Non-trainable params: 0\n",
            "_________________________________________________________________\n"
          ],
          "name": "stdout"
        },
        {
          "output_type": "execute_result",
          "data": {
            "image/png": "[encoded data removed]",
            "text/plain": [
              "<IPython.core.display.Image object>"
            ]
          },
          "metadata": {
            "tags": []
          },
          "execution_count": 32
        }
      ]
    },
    {
      "cell_type": "markdown",
      "metadata": {
        "id": "2ySdJmzxaSuz"
      },
      "source": [
        "### Optimize the model:\n",
        "\n",
        "After the model has been created, you must call its compile() method to specify the loss function and the optimizer to use.\n",
        "\n",
        "Since the model performs a binary classification task, we use the bynary cross-entropy as loss. As optimizer we use Adam.\n",
        "\n",
        "Moreover, you can optionally specify a list of additional metrics that should be measured during training. In this case we specify metrics=[\"accuracy\"]."
      ]
    },
    {
      "cell_type": "code",
      "metadata": {
        "id": "x3bbsY3uaeh5"
      },
      "source": [
        "model.compile(loss=\"binary_crossentropy\",\n",
        "              optimizer=keras.optimizers.Adam(learning_rate=1e-4),\n",
        "              metrics=[\"accuracy\"])"
      ],
      "execution_count": null,
      "outputs": []
    },
    {
      "cell_type": "markdown",
      "metadata": {
        "id": "NB9SV0MpaeTg"
      },
      "source": [
        "Now our model is ready to be trained. Call its fit() method, passing to it the input features (X_train) and the target classes (y_train). Set the number of epochs to 20. \n",
        "In order to validate our model we will also pass the validation data by setting validation_data=(X_valid, y_valid). Keras will compute the loss and the additional metrics (the accuracy in this case) on the validation set at the end of each epoch. If the loss on the training set is much lower than the one on the validation set, your model is probably overfitting the training set. Note: the fit() method will return a History object containing training stats."
      ]
    },
    {
      "cell_type": "code",
      "metadata": {
        "id": "5whx-LU3aoKn",
        "colab": {
          "base_uri": "https://localhost:8080/"
        },
        "outputId": "da43cee8-26a3-4d7b-b36a-aff130adc781"
      },
      "source": [
        "history = model.fit(X_train, y_train, epochs=20,\n",
        "                    validation_data=(X_valid, y_valid))"
      ],
      "execution_count": null,
      "outputs": [
        {
          "output_type": "stream",
          "text": [
            "Epoch 1/20\n",
            "782/782 [==============================] - 3s 3ms/step - loss: 0.6691 - accuracy: 0.5917 - val_loss: 0.5086 - val_accuracy: 0.7899\n",
            "Epoch 2/20\n",
            "782/782 [==============================] - 2s 3ms/step - loss: 0.4609 - accuracy: 0.8105 - val_loss: 0.3856 - val_accuracy: 0.8406\n",
            "Epoch 3/20\n",
            "782/782 [==============================] - 2s 3ms/step - loss: 0.3556 - accuracy: 0.8580 - val_loss: 0.3534 - val_accuracy: 0.8515\n",
            "Epoch 4/20\n",
            "782/782 [==============================] - 2s 3ms/step - loss: 0.3298 - accuracy: 0.8647 - val_loss: 0.3407 - val_accuracy: 0.8543\n",
            "Epoch 5/20\n",
            "782/782 [==============================] - 2s 3ms/step - loss: 0.3148 - accuracy: 0.8714 - val_loss: 0.3377 - val_accuracy: 0.8555\n",
            "Epoch 6/20\n",
            "782/782 [==============================] - 2s 3ms/step - loss: 0.3055 - accuracy: 0.8712 - val_loss: 0.3344 - val_accuracy: 0.8565\n",
            "Epoch 7/20\n",
            "782/782 [==============================] - 2s 3ms/step - loss: 0.2989 - accuracy: 0.8771 - val_loss: 0.3344 - val_accuracy: 0.8562\n",
            "Epoch 8/20\n",
            "782/782 [==============================] - 2s 3ms/step - loss: 0.3030 - accuracy: 0.8742 - val_loss: 0.3344 - val_accuracy: 0.8557\n",
            "Epoch 9/20\n",
            "782/782 [==============================] - 2s 3ms/step - loss: 0.2970 - accuracy: 0.8784 - val_loss: 0.3352 - val_accuracy: 0.8549\n",
            "Epoch 10/20\n",
            "782/782 [==============================] - 2s 3ms/step - loss: 0.2928 - accuracy: 0.8781 - val_loss: 0.3355 - val_accuracy: 0.8552\n",
            "Epoch 11/20\n",
            "782/782 [==============================] - 2s 3ms/step - loss: 0.2966 - accuracy: 0.8797 - val_loss: 0.3366 - val_accuracy: 0.8539\n",
            "Epoch 12/20\n",
            "782/782 [==============================] - 2s 3ms/step - loss: 0.2865 - accuracy: 0.8849 - val_loss: 0.3373 - val_accuracy: 0.8549\n",
            "Epoch 13/20\n",
            "782/782 [==============================] - 2s 3ms/step - loss: 0.2954 - accuracy: 0.8803 - val_loss: 0.3393 - val_accuracy: 0.8543\n",
            "Epoch 14/20\n",
            "782/782 [==============================] - 2s 3ms/step - loss: 0.2856 - accuracy: 0.8837 - val_loss: 0.3387 - val_accuracy: 0.8536\n",
            "Epoch 15/20\n",
            "782/782 [==============================] - 2s 3ms/step - loss: 0.2884 - accuracy: 0.8822 - val_loss: 0.3398 - val_accuracy: 0.8538\n",
            "Epoch 16/20\n",
            "782/782 [==============================] - 2s 3ms/step - loss: 0.2878 - accuracy: 0.8806 - val_loss: 0.3405 - val_accuracy: 0.8534\n",
            "Epoch 17/20\n",
            "782/782 [==============================] - 2s 3ms/step - loss: 0.2871 - accuracy: 0.8821 - val_loss: 0.3418 - val_accuracy: 0.8546\n",
            "Epoch 18/20\n",
            "782/782 [==============================] - 2s 3ms/step - loss: 0.2822 - accuracy: 0.8861 - val_loss: 0.3427 - val_accuracy: 0.8542\n",
            "Epoch 19/20\n",
            "782/782 [==============================] - 2s 3ms/step - loss: 0.2847 - accuracy: 0.8863 - val_loss: 0.3433 - val_accuracy: 0.8526\n",
            "Epoch 20/20\n",
            "782/782 [==============================] - 2s 3ms/step - loss: 0.2792 - accuracy: 0.8863 - val_loss: 0.3445 - val_accuracy: 0.8531\n"
          ],
          "name": "stdout"
        }
      ]
    },
    {
      "cell_type": "markdown",
      "metadata": {
        "id": "EPxiw8iCADr-"
      },
      "source": [
        "Let's plot the loss and the accuracy trends on both training and validation sets. We define the \"plot_learning_acc_and_loss\" function because we will reuse it in the next steps."
      ]
    },
    {
      "cell_type": "code",
      "metadata": {
        "id": "AJg-F7mUa7st",
        "colab": {
          "base_uri": "https://localhost:8080/",
          "height": 320
        },
        "outputId": "18169c9e-c06b-40cf-95e0-59e0729c1e8f"
      },
      "source": [
        "def plot_learning_acc_and_loss(history):\n",
        "    pd.DataFrame(history.history).plot(figsize=(8, 5))\n",
        "    plt.grid(True)\n",
        "    plt.show()\n",
        "plot_learning_acc_and_loss(history)"
      ],
      "execution_count": null,
      "outputs": [
        {
          "output_type": "display_data",
          "data": {
            "image/png": "[encoded data removed]",
            "text/plain": [
              "<Figure size 576x360 with 1 Axes>"
            ]
          },
          "metadata": {
            "tags": [],
            "needs_background": "light"
          }
        }
      ]
    },
    {
      "cell_type": "markdown",
      "metadata": {
        "id": "9O3-sLmxansJ"
      },
      "source": [
        "###Evaluate the model:\n",
        "\n",
        "Now, our model has been optimized on the training set, and as you can see the performance on the validation set in quite similar (so it does not overfit the training data). Let's now evaluate the performance of our model using the test set."
      ]
    },
    {
      "cell_type": "code",
      "metadata": {
        "id": "q-ZvJEcObdyB",
        "colab": {
          "base_uri": "https://localhost:8080/"
        },
        "outputId": "24329448-f6b4-4e36-d7a4-6657309758a6"
      },
      "source": [
        "model.evaluate(X_test, y_test)"
      ],
      "execution_count": null,
      "outputs": [
        {
          "output_type": "stream",
          "text": [
            "391/391 [==============================] - 1s 2ms/step - loss: 0.3227 - accuracy: 0.8662\n"
          ],
          "name": "stdout"
        },
        {
          "output_type": "execute_result",
          "data": {
            "text/plain": [
              "[0.32265692949295044, 0.8662400245666504]"
            ]
          },
          "metadata": {
            "tags": []
          },
          "execution_count": 36
        }
      ]
    },
    {
      "cell_type": "markdown",
      "metadata": {
        "id": "KTSxlnwrII-n"
      },
      "source": [
        "Explain why it is important to use test and validation, and why it is important to evaluate the model on the test set instead of the validation set. Finally, explain which is the usefulness of the validation set. Insert the discussion in this cell.\n",
        "\n",
        "We need to use the validation and test set because if we use the training set to estimate the true error we will underestimate it and basically we will have a very bad approximation of it. This is because we have built a particular model that is designed\n",
        "to solve the training set and so we may be able to achieve 100% accuracy, but this does not mean that our model will correctly predict all new examples. The usefulness of the validation set is that, after training the model, we can look at the validation score to choose the best hyperparameters, such as the learning rate, that maximize for example accuracy. Since we do not use the validation set to train the model, maximizing validation accuracy will hopefully maximize test accuracy (these two sets are both composed by examples not seen by the model).\n",
        "Since we use the validation set to find the parameters, we cannot also use it to estimate how good the model is in general (true error). To do this we need an independent set of data (test set) that has not been used to create or tune the model."
      ]
    },
    {
      "cell_type": "markdown",
      "metadata": {
        "id": "aeGlzKe864Gq"
      },
      "source": [
        "## Overfiting\n",
        "\n",
        "A common problem that occurs when you train a deep neural network is overfittig. Overfitting occurs when you achieve a good fit of your model on the training data, while it does not generalize well on new, unseen data. In other words, the model learned patterns specific to the training data, which are irrelevant in other data.\n",
        "As we have seen in the previous exercise, our model does not overfit the training data. In this exercise, we try to modify the training parameters in order to have a model that overfits.\n",
        "Overfitting can have many causes and usually is a combination of some of them, for instance: too many parameters/ layers, too few training samples, wrong learning rate (usualy too high), etc..\n",
        "\n",
        "\n",
        "In the next cell define a new model (similar to the previuos one) that overfits the training data; then plot the trend of the loss in training and validation set."
      ]
    },
    {
      "cell_type": "code",
      "metadata": {
        "id": "T2B2DFEC8f88",
        "colab": {
          "base_uri": "https://localhost:8080/"
        },
        "outputId": "0cdcb13a-5666-4501-a7c2-a56c59a60912"
      },
      "source": [
        "# modify the previuos model in order to obtain a new mdel that overfit the training data\n",
        "model = keras.models.Sequential([\n",
        "    tf.keras.Input(shape=(num_words,)),\n",
        "    keras.layers.Dense(32, activation=\"relu\"),\n",
        "    keras.layers.Dense(32, activation=\"relu\"),\n",
        "    keras.layers.Dense(16, activation=\"relu\"),\n",
        "    keras.layers.Dense(1, activation=\"sigmoid\")\n",
        "])\n",
        "model.summary()\n",
        "keras.utils.plot_model(model, \"my_imdb_model.png\", show_shapes=True)\n",
        "model.compile(loss=\"binary_crossentropy\",\n",
        "              optimizer=keras.optimizers.Adam(learning_rate=1e-3),#learning rate\n",
        "              metrics=[\"accuracy\"])\n",
        "\n",
        "history = model.fit(X_train, y_train, epochs=25,# epochs\n",
        "                    validation_data=(X_valid, y_valid))\n",
        "\n",
        "print(\"Model Evaluation\")\n",
        "model.evaluate(X_test, y_test)"
      ],
      "execution_count": null,
      "outputs": [
        {
          "output_type": "stream",
          "text": [
            "Model: \"sequential_43\"\n",
            "_________________________________________________________________\n",
            "Layer (type)                 Output Shape              Param #   \n",
            "=================================================================\n",
            "dense_134 (Dense)            (None, 32)                32032     \n",
            "_________________________________________________________________\n",
            "dense_135 (Dense)            (None, 32)                1056      \n",
            "_________________________________________________________________\n",
            "dense_136 (Dense)            (None, 16)                528       \n",
            "_________________________________________________________________\n",
            "dense_137 (Dense)            (None, 1)                 17        \n",
            "=================================================================\n",
            "Total params: 33,633\n",
            "Trainable params: 33,633\n",
            "Non-trainable params: 0\n",
            "_________________________________________________________________\n",
            "Epoch 1/25\n",
            "782/782 [==============================] - 3s 3ms/step - loss: 0.4576 - accuracy: 0.7716 - val_loss: 0.3412 - val_accuracy: 0.8518\n",
            "Epoch 2/25\n",
            "782/782 [==============================] - 3s 3ms/step - loss: 0.3165 - accuracy: 0.8638 - val_loss: 0.3361 - val_accuracy: 0.8512\n",
            "Epoch 3/25\n",
            "782/782 [==============================] - 2s 3ms/step - loss: 0.2726 - accuracy: 0.8861 - val_loss: 0.3468 - val_accuracy: 0.8506\n",
            "Epoch 4/25\n",
            "782/782 [==============================] - 3s 3ms/step - loss: 0.2408 - accuracy: 0.8992 - val_loss: 0.3831 - val_accuracy: 0.8449\n",
            "Epoch 5/25\n",
            "782/782 [==============================] - 3s 3ms/step - loss: 0.1857 - accuracy: 0.9282 - val_loss: 0.4334 - val_accuracy: 0.8372\n",
            "Epoch 6/25\n",
            "782/782 [==============================] - 3s 3ms/step - loss: 0.1337 - accuracy: 0.9520 - val_loss: 0.4733 - val_accuracy: 0.8345\n",
            "Epoch 7/25\n",
            "782/782 [==============================] - 2s 3ms/step - loss: 0.0858 - accuracy: 0.9718 - val_loss: 0.5896 - val_accuracy: 0.8290\n",
            "Epoch 8/25\n",
            "782/782 [==============================] - 3s 3ms/step - loss: 0.0601 - accuracy: 0.9806 - val_loss: 0.6935 - val_accuracy: 0.8198\n",
            "Epoch 9/25\n",
            "782/782 [==============================] - 3s 3ms/step - loss: 0.0474 - accuracy: 0.9850 - val_loss: 0.8669 - val_accuracy: 0.8238\n",
            "Epoch 10/25\n",
            "782/782 [==============================] - 3s 3ms/step - loss: 0.0385 - accuracy: 0.9873 - val_loss: 0.9887 - val_accuracy: 0.8274\n",
            "Epoch 11/25\n",
            "782/782 [==============================] - 3s 3ms/step - loss: 0.0311 - accuracy: 0.9903 - val_loss: 1.0385 - val_accuracy: 0.8306\n",
            "Epoch 12/25\n",
            "782/782 [==============================] - 3s 3ms/step - loss: 0.0206 - accuracy: 0.9931 - val_loss: 1.1746 - val_accuracy: 0.8268\n",
            "Epoch 13/25\n",
            "782/782 [==============================] - 2s 3ms/step - loss: 0.0263 - accuracy: 0.9910 - val_loss: 1.1690 - val_accuracy: 0.8236\n",
            "Epoch 14/25\n",
            "782/782 [==============================] - 2s 3ms/step - loss: 0.0231 - accuracy: 0.9917 - val_loss: 1.2164 - val_accuracy: 0.8214\n",
            "Epoch 15/25\n",
            "782/782 [==============================] - 2s 3ms/step - loss: 0.0115 - accuracy: 0.9961 - val_loss: 1.3730 - val_accuracy: 0.8238\n",
            "Epoch 16/25\n",
            "782/782 [==============================] - 3s 3ms/step - loss: 0.0194 - accuracy: 0.9931 - val_loss: 1.4114 - val_accuracy: 0.8280\n",
            "Epoch 17/25\n",
            "782/782 [==============================] - 3s 3ms/step - loss: 0.0238 - accuracy: 0.9924 - val_loss: 1.3154 - val_accuracy: 0.8265\n",
            "Epoch 18/25\n",
            "782/782 [==============================] - 3s 3ms/step - loss: 0.0185 - accuracy: 0.9943 - val_loss: 1.3245 - val_accuracy: 0.8197\n",
            "Epoch 19/25\n",
            "782/782 [==============================] - 3s 3ms/step - loss: 0.0146 - accuracy: 0.9952 - val_loss: 1.3110 - val_accuracy: 0.8253\n",
            "Epoch 20/25\n",
            "782/782 [==============================] - 2s 3ms/step - loss: 0.0115 - accuracy: 0.9961 - val_loss: 1.5048 - val_accuracy: 0.8236\n",
            "Epoch 21/25\n",
            "782/782 [==============================] - 3s 3ms/step - loss: 0.0117 - accuracy: 0.9965 - val_loss: 1.4219 - val_accuracy: 0.8210\n",
            "Epoch 22/25\n",
            "782/782 [==============================] - 3s 3ms/step - loss: 0.0148 - accuracy: 0.9950 - val_loss: 1.4349 - val_accuracy: 0.8266\n",
            "Epoch 23/25\n",
            "782/782 [==============================] - 3s 3ms/step - loss: 0.0132 - accuracy: 0.9953 - val_loss: 1.4725 - val_accuracy: 0.8168\n",
            "Epoch 24/25\n",
            "782/782 [==============================] - 3s 3ms/step - loss: 0.0101 - accuracy: 0.9970 - val_loss: 1.4651 - val_accuracy: 0.8236\n",
            "Epoch 25/25\n",
            "782/782 [==============================] - 2s 3ms/step - loss: 0.0074 - accuracy: 0.9974 - val_loss: 1.6261 - val_accuracy: 0.8278\n",
            "Model Evaluation\n",
            "391/391 [==============================] - 1s 2ms/step - loss: 1.5021 - accuracy: 0.8309\n"
          ],
          "name": "stdout"
        },
        {
          "output_type": "execute_result",
          "data": {
            "text/plain": [
              "[1.5021030902862549, 0.8308799862861633]"
            ]
          },
          "metadata": {
            "tags": []
          },
          "execution_count": 37
        }
      ]
    },
    {
      "cell_type": "markdown",
      "metadata": {
        "id": "MS0fujEqh_m3"
      },
      "source": [
        "Define the plot_learning_curves function that plots inly the losses (not the accuracy)."
      ]
    },
    {
      "cell_type": "code",
      "metadata": {
        "id": "q5EsklC0DZYH",
        "colab": {
          "base_uri": "https://localhost:8080/",
          "height": 336
        },
        "outputId": "b54472b5-e4e7-4c8d-8578-208abf91f046"
      },
      "source": [
        "def plot_learning_curves(history):\n",
        "    plt.figure(figsize=(8, 5))\n",
        "    plt.plot(history.epoch,history.history['loss'], label='train loss')\n",
        "    plt.plot(history.epoch,history.history['val_loss'], label='valid loss')\n",
        "    plt.legend()\n",
        "    plt.title('loss')\n",
        "    plt.grid(True)\n",
        "    plt.show()\n",
        "plot_learning_curves(history)"
      ],
      "execution_count": null,
      "outputs": [
        {
          "output_type": "display_data",
          "data": {
            "image/png": "[encoded data removed]",
            "text/plain": [
              "<Figure size 576x360 with 1 Axes>"
            ]
          },
          "metadata": {
            "tags": [],
            "needs_background": "light"
          }
        }
      ]
    },
    {
      "cell_type": "markdown",
      "metadata": {
        "id": "OW4Kf4fgDfOs"
      },
      "source": [
        "###L1 norm\n",
        "\n",
        "One possible way to solve the overitting issue is by using regularization methods. The two most common regularization methods in Deep Learning are the L1-norm regularization and the L2-norm regularization. Both These techniques are based on limiting the capacity of models, by adding a parameter norm penalty to the objective function $\\mathcal{J}$:\n",
        "$$\n",
        "\\hat{\\mathcal{J}}(\\theta,\\mathbf{X},\\mathbf{y}) = \\mathcal{J}(\\theta,\\mathbf{X},\\mathbf{y}) + \\alpha \\Omega(\\theta)\n",
        "$$\n",
        "where $\\alpha$ is a hyperparameter that weighs the relative contribution of the norm penalty $\\Omega$.\n",
        "Lets start by considering the L1-norm regularization where the regularization term is defined as:\n",
        "$$\n",
        " \\Omega(\\theta)=||\\mathbf{W}||_1=\\sum_i |\\mathbf{w}|\n",
        "$$\n",
        "Let's find the values for the $\\alpha$ parameters that allow to remove the overfitting effect."
      ]
    },
    {
      "cell_type": "code",
      "metadata": {
        "id": "QzD8520dDgw3",
        "colab": {
          "base_uri": "https://localhost:8080/",
          "height": 1000
        },
        "outputId": "426f9d5e-7397-4478-94a8-95f802e2324d"
      },
      "source": [
        "#In Keras is neccesary to add the regularizer by using the attribute kernel_regularizer\n",
        "#to each layer whose weights will be considered in the Omega function.\n",
        "#is it also possibile to consider the bias by using the attribute bias_regularizer \n",
        "#tf.keras.regularizers.l1(alpha) perfroms the L1-norm regularization\n",
        "\n",
        "#copy the model that you previously defined that overfits the \n",
        "#trainnig data, and add the L1-norm regularization. Use a proper value for the\n",
        "#alpha hyper-parameter, that prevents the model from overfitting. The results  \n",
        "#reached by the model in terms of loss and accuracy (in all data sets) should be\n",
        "#comparable with the ones obtained by the initial model defined in Exercise 2.1 \n",
        "\n",
        "#In general, a layer that exploits L1-norm regularization is defined as follows:\n",
        "\n",
        "#model.add(keras.layers.Dense(units=[TO COMPLETE], activation=[TO COMPLETE], kernel_regularizer=tf.keras.regularizers.l1([TO COMPLETE]))) \n",
        "\n",
        "model = keras.models.Sequential([\n",
        "    tf.keras.Input(shape=(num_words,)),\n",
        "    keras.layers.Dense(units= 32, activation=\"relu\", kernel_regularizer=tf.keras.regularizers.l1(0.001)),\n",
        "    keras.layers.Dense(units= 32, activation=\"relu\", kernel_regularizer=tf.keras.regularizers.l1(0.001)),\n",
        "    keras.layers.Dense(units= 16, activation=\"relu\"),\n",
        "    keras.layers.Dense(units= 1, activation=\"sigmoid\")\n",
        "])\n",
        "\n",
        "\n",
        "model.compile(loss=\"binary_crossentropy\",\n",
        "              optimizer=keras.optimizers.Adam(learning_rate= 1e-3),#[TO COMPLETE] learning rate\n",
        "              metrics=[\"accuracy\"])\n",
        "\n",
        "history = model.fit(X_train, y_train, epochs=25,#[TO COMPLETE] epochs\n",
        "                    validation_data=(X_valid, y_valid))\n",
        "\n",
        "print(\"Model Evaluation\")\n",
        "model.evaluate(X_test, y_test)\n",
        "plot_learning_curves(history)"
      ],
      "execution_count": null,
      "outputs": [
        {
          "output_type": "stream",
          "text": [
            "Epoch 1/25\n",
            "782/782 [==============================] - 3s 4ms/step - loss: 0.9658 - accuracy: 0.7640 - val_loss: 0.5190 - val_accuracy: 0.8478\n",
            "Epoch 2/25\n",
            "782/782 [==============================] - 3s 3ms/step - loss: 0.5057 - accuracy: 0.8475 - val_loss: 0.4665 - val_accuracy: 0.8474\n",
            "Epoch 3/25\n",
            "782/782 [==============================] - 3s 3ms/step - loss: 0.4393 - accuracy: 0.8667 - val_loss: 0.4379 - val_accuracy: 0.8479\n",
            "Epoch 4/25\n",
            "782/782 [==============================] - 3s 3ms/step - loss: 0.4119 - accuracy: 0.8602 - val_loss: 0.4245 - val_accuracy: 0.8464\n",
            "Epoch 5/25\n",
            "782/782 [==============================] - 3s 3ms/step - loss: 0.3940 - accuracy: 0.8661 - val_loss: 0.4108 - val_accuracy: 0.8489\n",
            "Epoch 6/25\n",
            "782/782 [==============================] - 3s 3ms/step - loss: 0.3848 - accuracy: 0.8668 - val_loss: 0.3988 - val_accuracy: 0.8551\n",
            "Epoch 7/25\n",
            "782/782 [==============================] - 3s 3ms/step - loss: 0.3735 - accuracy: 0.8674 - val_loss: 0.3973 - val_accuracy: 0.8523\n",
            "Epoch 8/25\n",
            "782/782 [==============================] - 3s 3ms/step - loss: 0.3787 - accuracy: 0.8669 - val_loss: 0.3939 - val_accuracy: 0.8547\n",
            "Epoch 9/25\n",
            "782/782 [==============================] - 3s 3ms/step - loss: 0.3701 - accuracy: 0.8696 - val_loss: 0.3951 - val_accuracy: 0.8541\n",
            "Epoch 10/25\n",
            "782/782 [==============================] - 3s 3ms/step - loss: 0.3685 - accuracy: 0.8707 - val_loss: 0.3935 - val_accuracy: 0.8548\n",
            "Epoch 11/25\n",
            "782/782 [==============================] - 3s 3ms/step - loss: 0.3703 - accuracy: 0.8699 - val_loss: 0.4061 - val_accuracy: 0.8457\n",
            "Epoch 12/25\n",
            "782/782 [==============================] - 3s 3ms/step - loss: 0.3601 - accuracy: 0.8721 - val_loss: 0.3894 - val_accuracy: 0.8560\n",
            "Epoch 13/25\n",
            "782/782 [==============================] - 3s 3ms/step - loss: 0.3690 - accuracy: 0.8691 - val_loss: 0.3927 - val_accuracy: 0.8529\n",
            "Epoch 14/25\n",
            "782/782 [==============================] - 3s 3ms/step - loss: 0.3601 - accuracy: 0.8711 - val_loss: 0.3906 - val_accuracy: 0.8523\n",
            "Epoch 15/25\n",
            "782/782 [==============================] - 3s 3ms/step - loss: 0.3641 - accuracy: 0.8689 - val_loss: 0.3842 - val_accuracy: 0.8526\n",
            "Epoch 16/25\n",
            "782/782 [==============================] - 3s 3ms/step - loss: 0.3611 - accuracy: 0.8694 - val_loss: 0.3850 - val_accuracy: 0.8535\n",
            "Epoch 17/25\n",
            "782/782 [==============================] - 3s 3ms/step - loss: 0.3623 - accuracy: 0.8671 - val_loss: 0.3837 - val_accuracy: 0.8552\n",
            "Epoch 18/25\n",
            "782/782 [==============================] - 3s 3ms/step - loss: 0.3604 - accuracy: 0.8676 - val_loss: 0.3885 - val_accuracy: 0.8529\n",
            "Epoch 19/25\n",
            "782/782 [==============================] - 3s 3ms/step - loss: 0.3644 - accuracy: 0.8673 - val_loss: 0.3828 - val_accuracy: 0.8554\n",
            "Epoch 20/25\n",
            "782/782 [==============================] - 3s 3ms/step - loss: 0.3592 - accuracy: 0.8693 - val_loss: 0.3883 - val_accuracy: 0.8520\n",
            "Epoch 21/25\n",
            "782/782 [==============================] - 3s 3ms/step - loss: 0.3615 - accuracy: 0.8697 - val_loss: 0.3848 - val_accuracy: 0.8533\n",
            "Epoch 22/25\n",
            "782/782 [==============================] - 3s 3ms/step - loss: 0.3606 - accuracy: 0.8669 - val_loss: 0.3822 - val_accuracy: 0.8560\n",
            "Epoch 23/25\n",
            "782/782 [==============================] - 3s 3ms/step - loss: 0.3544 - accuracy: 0.8725 - val_loss: 0.4008 - val_accuracy: 0.8482\n",
            "Epoch 24/25\n",
            "782/782 [==============================] - 3s 3ms/step - loss: 0.3576 - accuracy: 0.8708 - val_loss: 0.3864 - val_accuracy: 0.8535\n",
            "Epoch 25/25\n",
            "782/782 [==============================] - 3s 3ms/step - loss: 0.3539 - accuracy: 0.8718 - val_loss: 0.3841 - val_accuracy: 0.8523\n",
            "Model Evaluation\n",
            "391/391 [==============================] - 1s 2ms/step - loss: 0.3627 - accuracy: 0.8668\n"
          ],
          "name": "stdout"
        },
        {
          "output_type": "display_data",
          "data": {
            "image/png": "[encoded data removed]",
            "text/plain": [
              "<Figure size 576x360 with 1 Axes>"
            ]
          },
          "metadata": {
            "tags": [],
            "needs_background": "light"
          }
        }
      ]
    },
    {
      "cell_type": "markdown",
      "metadata": {
        "id": "CgnCGYUvDqbC"
      },
      "source": [
        "### L2-norm\n",
        "\n",
        "L2-norm regularization is also known as weight decay. This strategy drives the weights closer to the origin by adding the regularization term omega which is defined as:\n",
        "$$\n",
        " \\Omega(\\theta)=\\frac{1}{2}||\\mathbf{W}||_2^2\n",
        "$$\n",
        "\n",
        "Let's find the values for the $\\alpha$ parameters that allow removing remove the overfitting effect with L2-norm."
      ]
    },
    {
      "cell_type": "code",
      "metadata": {
        "id": "qqNhu350DtJo",
        "colab": {
          "base_uri": "https://localhost:8080/",
          "height": 1000
        },
        "outputId": "937a4ce6-87bc-49ca-f752-1f6ccab8bd50"
      },
      "source": [
        "#[TO COMPLETE] insert the model that you previously defined that overfit the \n",
        "#trainig data, and add the L2-norm regularization. Use proper values for the\n",
        "#alpha hyper-parameters, that prevents the model from overfitting. The results  \n",
        "#reached by the model in terms of loss and accuracy (in all data sets) should be\n",
        "#comparable with the ones obtained by the initial model defined in Exercise 2.1\n",
        "\n",
        "#In general, a layer that exploits L2-norm regularization is defined as follow:\n",
        "\n",
        "#model.add(keras.layers.Dense(units=[TO COMPLETE], activation=[TO COMPLETE],kernel_regularizer=tf.keras.regularizers.l2([TO COMPLETE]))) \n",
        "\n",
        "model = keras.models.Sequential([\n",
        "    tf.keras.Input(shape=(num_words,)),\n",
        "    keras.layers.Dense(units= 32, activation=\"relu\", kernel_regularizer=tf.keras.regularizers.l2(0.02)),\n",
        "    keras.layers.Dense(units= 32, activation=\"relu\", kernel_regularizer=tf.keras.regularizers.l2(0.015)),\n",
        "    keras.layers.Dense(units= 16, activation=\"relu\", kernel_regularizer=tf.keras.regularizers.l2(0.01)),\n",
        "    keras.layers.Dense(units= 1, activation=\"sigmoid\")\n",
        "])\n",
        "\n",
        "\n",
        "model.compile(loss=\"binary_crossentropy\",\n",
        "              optimizer=keras.optimizers.Adam(learning_rate=1e-3),#[TO COMPLETE] learning rate\n",
        "              metrics=[\"accuracy\"])\n",
        "\n",
        "history = model.fit(X_train, y_train, epochs= 25,#[TO COMPLETE] epochs\n",
        "                    validation_data=(X_valid, y_valid))\n",
        "\n",
        "print(\"Model Evaluation\")\n",
        "model.evaluate(X_test, y_test)\n",
        "plot_learning_curves(history)"
      ],
      "execution_count": null,
      "outputs": [
        {
          "output_type": "stream",
          "text": [
            "Epoch 1/25\n",
            "782/782 [==============================] - 3s 3ms/step - loss: 1.0545 - accuracy: 0.7660 - val_loss: 0.5064 - val_accuracy: 0.8398\n",
            "Epoch 2/25\n",
            "782/782 [==============================] - 3s 3ms/step - loss: 0.4941 - accuracy: 0.8418 - val_loss: 0.4677 - val_accuracy: 0.8426\n",
            "Epoch 3/25\n",
            "782/782 [==============================] - 3s 3ms/step - loss: 0.4512 - accuracy: 0.8553 - val_loss: 0.4483 - val_accuracy: 0.8459\n",
            "Epoch 4/25\n",
            "782/782 [==============================] - 3s 3ms/step - loss: 0.4379 - accuracy: 0.8520 - val_loss: 0.4504 - val_accuracy: 0.8393\n",
            "Epoch 5/25\n",
            "782/782 [==============================] - 3s 3ms/step - loss: 0.4254 - accuracy: 0.8553 - val_loss: 0.4664 - val_accuracy: 0.8220\n",
            "Epoch 6/25\n",
            "782/782 [==============================] - 3s 3ms/step - loss: 0.4191 - accuracy: 0.8533 - val_loss: 0.4269 - val_accuracy: 0.8473\n",
            "Epoch 7/25\n",
            "782/782 [==============================] - 3s 3ms/step - loss: 0.4051 - accuracy: 0.8584 - val_loss: 0.4213 - val_accuracy: 0.8496\n",
            "Epoch 8/25\n",
            "782/782 [==============================] - 3s 3ms/step - loss: 0.4074 - accuracy: 0.8567 - val_loss: 0.4174 - val_accuracy: 0.8472\n",
            "Epoch 9/25\n",
            "782/782 [==============================] - 3s 3ms/step - loss: 0.3974 - accuracy: 0.8619 - val_loss: 0.4102 - val_accuracy: 0.8526\n",
            "Epoch 10/25\n",
            "782/782 [==============================] - 3s 3ms/step - loss: 0.3918 - accuracy: 0.8624 - val_loss: 0.4071 - val_accuracy: 0.8515\n",
            "Epoch 11/25\n",
            "782/782 [==============================] - 3s 3ms/step - loss: 0.3933 - accuracy: 0.8612 - val_loss: 0.4335 - val_accuracy: 0.8369\n",
            "Epoch 12/25\n",
            "782/782 [==============================] - 3s 3ms/step - loss: 0.3823 - accuracy: 0.8657 - val_loss: 0.4031 - val_accuracy: 0.8542\n",
            "Epoch 13/25\n",
            "782/782 [==============================] - 3s 3ms/step - loss: 0.3908 - accuracy: 0.8631 - val_loss: 0.4037 - val_accuracy: 0.8515\n",
            "Epoch 14/25\n",
            "782/782 [==============================] - 3s 3ms/step - loss: 0.3819 - accuracy: 0.8655 - val_loss: 0.4092 - val_accuracy: 0.8457\n",
            "Epoch 15/25\n",
            "782/782 [==============================] - 3s 3ms/step - loss: 0.3829 - accuracy: 0.8643 - val_loss: 0.3986 - val_accuracy: 0.8498\n",
            "Epoch 16/25\n",
            "782/782 [==============================] - 3s 3ms/step - loss: 0.3816 - accuracy: 0.8614 - val_loss: 0.4025 - val_accuracy: 0.8490\n",
            "Epoch 17/25\n",
            "782/782 [==============================] - 3s 3ms/step - loss: 0.3837 - accuracy: 0.8604 - val_loss: 0.3952 - val_accuracy: 0.8562\n",
            "Epoch 18/25\n",
            "782/782 [==============================] - 3s 3ms/step - loss: 0.3810 - accuracy: 0.8617 - val_loss: 0.3970 - val_accuracy: 0.8525\n",
            "Epoch 19/25\n",
            "782/782 [==============================] - 3s 3ms/step - loss: 0.3833 - accuracy: 0.8614 - val_loss: 0.3927 - val_accuracy: 0.8537\n",
            "Epoch 20/25\n",
            "782/782 [==============================] - 3s 4ms/step - loss: 0.3782 - accuracy: 0.8627 - val_loss: 0.3990 - val_accuracy: 0.8494\n",
            "Epoch 21/25\n",
            "782/782 [==============================] - 3s 3ms/step - loss: 0.3812 - accuracy: 0.8620 - val_loss: 0.3918 - val_accuracy: 0.8542\n",
            "Epoch 22/25\n",
            "782/782 [==============================] - 3s 3ms/step - loss: 0.3823 - accuracy: 0.8605 - val_loss: 0.3922 - val_accuracy: 0.8546\n",
            "Epoch 23/25\n",
            "782/782 [==============================] - 3s 3ms/step - loss: 0.3728 - accuracy: 0.8656 - val_loss: 0.4137 - val_accuracy: 0.8391\n",
            "Epoch 24/25\n",
            "782/782 [==============================] - 3s 3ms/step - loss: 0.3766 - accuracy: 0.8635 - val_loss: 0.3931 - val_accuracy: 0.8514\n",
            "Epoch 25/25\n",
            "782/782 [==============================] - 3s 3ms/step - loss: 0.3719 - accuracy: 0.8638 - val_loss: 0.3905 - val_accuracy: 0.8510\n",
            "Model Evaluation\n",
            "391/391 [==============================] - 1s 2ms/step - loss: 0.3724 - accuracy: 0.8630\n"
          ],
          "name": "stdout"
        },
        {
          "output_type": "display_data",
          "data": {
            "image/png": "[encoded data removed]",
            "text/plain": [
              "<Figure size 576x360 with 1 Axes>"
            ]
          },
          "metadata": {
            "tags": [],
            "needs_background": "light"
          }
        }
      ]
    },
    {
      "cell_type": "markdown",
      "metadata": {
        "id": "xvyKPb4DD25G"
      },
      "source": [
        "### Early stopping\n",
        "\n",
        "Early Stopping is a form of regularization used to avoid overfitting. It is designed to monitor the generalization error of one model and stop training when generalization error begins to degrade. In order to evaluate the generalization error, early stopping requires that a validation dataset is evaluated during training. Then, when the validation error does not improve for a specific number of epochs (patience hyper-parameter), it stops the training phase."
      ]
    },
    {
      "cell_type": "code",
      "metadata": {
        "id": "MqNOOZ11D7cq",
        "colab": {
          "base_uri": "https://localhost:8080/",
          "height": 672
        },
        "outputId": "5e3cc2e4-bbe1-451e-eb75-151e10c14418"
      },
      "source": [
        "#insert the model that you previously defined that overfit the \n",
        "#trainnig data\n",
        "model = keras.models.Sequential([\n",
        "    tf.keras.Input(shape=(num_words,)),\n",
        "    keras.layers.Dense(units= 32, activation=\"relu\"),\n",
        "    keras.layers.Dense(units= 32, activation=\"relu\"),\n",
        "    keras.layers.Dense(units= 16, activation=\"relu\"),\n",
        "    keras.layers.Dense(units= 1, activation=\"sigmoid\")\n",
        "])\n",
        "model.compile(loss=\"binary_crossentropy\",\n",
        "              optimizer=keras.optimizers.Adam(learning_rate=1e-3),\n",
        "              metrics=[\"accuracy\"])\n",
        "\n",
        "#Let's define a log dir in order to save the checkpoint file\n",
        "logdir = os.path.join(os.curdir, \"my_logs\", \"run_{}\".format(time.time()))\n",
        "\n",
        "#In Keras the Eraly stopping is manage by using the callbacks argument.\n",
        "callbacks = [\n",
        "    keras.callbacks.TensorBoard(logdir),\n",
        "    keras.callbacks.EarlyStopping(patience=7),# play with patience and find the value that prevents the model from overfitting.\n",
        "\n",
        "\n",
        "    #Saving the checkpoints file allows to load the \"best\" model when the Early \n",
        "    #stopping detect that the generalization error degrade (after 'patience' epochs)\n",
        "    keras.callbacks.ModelCheckpoint(\"my_mnist_model.h5\", save_best_only=True),\n",
        "]\n",
        "\n",
        "history = model.fit(X_train, y_train, epochs=25,# epochs\n",
        "                    validation_data=(X_valid, y_valid),\n",
        "                    callbacks=callbacks)\n",
        "\n",
        "print(\"Model Evaluation\")\n",
        "#The early stopping stopped training after few epochs without progress, so your\n",
        "#model may already have started to overfit the training set. Since the \n",
        "#ModelCheckpoint callback only saved the best models (on the validation set) the\n",
        "#last saved model is the best on the validation set.\n",
        "model = keras.models.load_model(\"my_mnist_model.h5\")\n",
        "model.evaluate(X_test, y_test)\n",
        "plot_learning_curves(history)"
      ],
      "execution_count": null,
      "outputs": [
        {
          "output_type": "stream",
          "text": [
            "Epoch 1/25\n",
            "782/782 [==============================] - 4s 5ms/step - loss: 0.4494 - accuracy: 0.7803 - val_loss: 0.3413 - val_accuracy: 0.8498\n",
            "Epoch 2/25\n",
            "782/782 [==============================] - 2s 3ms/step - loss: 0.3170 - accuracy: 0.8638 - val_loss: 0.3380 - val_accuracy: 0.8521\n",
            "Epoch 3/25\n",
            "782/782 [==============================] - 2s 3ms/step - loss: 0.2774 - accuracy: 0.8814 - val_loss: 0.3646 - val_accuracy: 0.8409\n",
            "Epoch 4/25\n",
            "782/782 [==============================] - 2s 3ms/step - loss: 0.2435 - accuracy: 0.8988 - val_loss: 0.3496 - val_accuracy: 0.8495\n",
            "Epoch 5/25\n",
            "782/782 [==============================] - 2s 3ms/step - loss: 0.1973 - accuracy: 0.9221 - val_loss: 0.4089 - val_accuracy: 0.8363\n",
            "Epoch 6/25\n",
            "782/782 [==============================] - 2s 3ms/step - loss: 0.1475 - accuracy: 0.9446 - val_loss: 0.4906 - val_accuracy: 0.8274\n",
            "Epoch 7/25\n",
            "782/782 [==============================] - 3s 3ms/step - loss: 0.1013 - accuracy: 0.9632 - val_loss: 0.5702 - val_accuracy: 0.8255\n",
            "Epoch 8/25\n",
            "782/782 [==============================] - 2s 3ms/step - loss: 0.0716 - accuracy: 0.9757 - val_loss: 0.7196 - val_accuracy: 0.8238\n",
            "Epoch 9/25\n",
            "782/782 [==============================] - 2s 3ms/step - loss: 0.0499 - accuracy: 0.9849 - val_loss: 0.8770 - val_accuracy: 0.8205\n",
            "Model Evaluation\n",
            "391/391 [==============================] - 1s 2ms/step - loss: 0.3219 - accuracy: 0.8622\n"
          ],
          "name": "stdout"
        },
        {
          "output_type": "display_data",
          "data": {
            "image/png": "[encoded data removed]",
            "text/plain": [
              "<Figure size 576x360 with 1 Axes>"
            ]
          },
          "metadata": {
            "tags": [],
            "needs_background": "light"
          }
        }
      ]
    },
    {
      "cell_type": "markdown",
      "metadata": {
        "id": "3Q9AzK5xhj8z"
      },
      "source": [
        "Since the model that I built start to overfit from the start the use of early stopping does not make sense so, in this case, I decide to combine early stopping with L1 regularization."
      ]
    },
    {
      "cell_type": "code",
      "metadata": {
        "id": "JmSM4y0OhkQF",
        "colab": {
          "base_uri": "https://localhost:8080/",
          "height": 1000
        },
        "outputId": "586dee5b-e675-4d45-8ecf-9a497f11ea60"
      },
      "source": [
        "#insert the model that you previously defined that overfit the \n",
        "#trainnig data\n",
        "model = keras.models.Sequential([\n",
        "    tf.keras.Input(shape=(num_words,)),\n",
        "    keras.layers.Dense(units= 32, activation=\"relu\", kernel_regularizer=tf.keras.regularizers.l1(0.001)),\n",
        "    keras.layers.Dense(units= 32, activation=\"relu\", kernel_regularizer=tf.keras.regularizers.l1(0.001)),\n",
        "    keras.layers.Dense(units= 16, activation=\"relu\"),\n",
        "    keras.layers.Dense(units= 1, activation=\"sigmoid\")\n",
        "])\n",
        "model.compile(loss=\"binary_crossentropy\",\n",
        "              optimizer=keras.optimizers.Adam(learning_rate=1e-3),\n",
        "              metrics=[\"accuracy\"])\n",
        "\n",
        "#Let's define a log dir in order to save the checkpoint file\n",
        "logdir = os.path.join(os.curdir, \"my_logs\", \"run_{}\".format(time.time()))\n",
        "\n",
        "#In Keras the Eraly stopping is manage by using the callbacks argument.\n",
        "callbacks = [\n",
        "    keras.callbacks.TensorBoard(logdir),\n",
        "    keras.callbacks.EarlyStopping(patience=5),# play with patience and find the value that prevents the model from overfitting.\n",
        "\n",
        "\n",
        "    #Saving the checkpoints file allows to load the \"best\" model when the Early \n",
        "    #stopping detect that the generalization error degrade (after 'patience' epochs)\n",
        "    keras.callbacks.ModelCheckpoint(\"my_mnist_model.h5\", save_best_only=True),\n",
        "]\n",
        "\n",
        "history = model.fit(X_train, y_train, epochs=40,#epochs\n",
        "                    validation_data=(X_valid, y_valid),\n",
        "                    callbacks=callbacks)\n",
        "\n",
        "print(\"Model Evaluation\")\n",
        "#The early stopping stopped training after few epochs without progress, so your\n",
        "#model may already have started to overfit the training set. Since the \n",
        "#ModelCheckpoint callback only saved the best models (on the validation set) the\n",
        "#last saved model is the best on the validation set.\n",
        "model = keras.models.load_model(\"my_mnist_model.h5\")\n",
        "model.evaluate(X_test, y_test)\n",
        "plot_learning_curves(history)"
      ],
      "execution_count": null,
      "outputs": [
        {
          "output_type": "stream",
          "text": [
            "Epoch 1/40\n",
            "782/782 [==============================] - 3s 4ms/step - loss: 0.9438 - accuracy: 0.7760 - val_loss: 0.5068 - val_accuracy: 0.8485\n",
            "Epoch 2/40\n",
            "782/782 [==============================] - 3s 3ms/step - loss: 0.4965 - accuracy: 0.8502 - val_loss: 0.4715 - val_accuracy: 0.8478\n",
            "Epoch 3/40\n",
            "782/782 [==============================] - 3s 3ms/step - loss: 0.4468 - accuracy: 0.8633 - val_loss: 0.4504 - val_accuracy: 0.8483\n",
            "Epoch 4/40\n",
            "782/782 [==============================] - 3s 3ms/step - loss: 0.4252 - accuracy: 0.8574 - val_loss: 0.4410 - val_accuracy: 0.8458\n",
            "Epoch 5/40\n",
            "782/782 [==============================] - 3s 3ms/step - loss: 0.4065 - accuracy: 0.8628 - val_loss: 0.4213 - val_accuracy: 0.8499\n",
            "Epoch 6/40\n",
            "782/782 [==============================] - 3s 3ms/step - loss: 0.3941 - accuracy: 0.8667 - val_loss: 0.4057 - val_accuracy: 0.8552\n",
            "Epoch 7/40\n",
            "782/782 [==============================] - 3s 3ms/step - loss: 0.3801 - accuracy: 0.8682 - val_loss: 0.4024 - val_accuracy: 0.8534\n",
            "Epoch 8/40\n",
            "782/782 [==============================] - 3s 3ms/step - loss: 0.3831 - accuracy: 0.8652 - val_loss: 0.3966 - val_accuracy: 0.8553\n",
            "Epoch 9/40\n",
            "782/782 [==============================] - 3s 3ms/step - loss: 0.3730 - accuracy: 0.8685 - val_loss: 0.3981 - val_accuracy: 0.8518\n",
            "Epoch 10/40\n",
            "782/782 [==============================] - 3s 3ms/step - loss: 0.3699 - accuracy: 0.8688 - val_loss: 0.3934 - val_accuracy: 0.8553\n",
            "Epoch 11/40\n",
            "782/782 [==============================] - 3s 3ms/step - loss: 0.3714 - accuracy: 0.8686 - val_loss: 0.4006 - val_accuracy: 0.8453\n",
            "Epoch 12/40\n",
            "782/782 [==============================] - 3s 3ms/step - loss: 0.3601 - accuracy: 0.8732 - val_loss: 0.3938 - val_accuracy: 0.8510\n",
            "Epoch 13/40\n",
            "782/782 [==============================] - 3s 3ms/step - loss: 0.3697 - accuracy: 0.8691 - val_loss: 0.3963 - val_accuracy: 0.8550\n",
            "Epoch 14/40\n",
            "782/782 [==============================] - 3s 3ms/step - loss: 0.3642 - accuracy: 0.8699 - val_loss: 0.3986 - val_accuracy: 0.8439\n",
            "Epoch 15/40\n",
            "782/782 [==============================] - 3s 3ms/step - loss: 0.3675 - accuracy: 0.8674 - val_loss: 0.3910 - val_accuracy: 0.8534\n",
            "Epoch 16/40\n",
            "782/782 [==============================] - 3s 3ms/step - loss: 0.3652 - accuracy: 0.8676 - val_loss: 0.3908 - val_accuracy: 0.8530\n",
            "Epoch 17/40\n",
            "782/782 [==============================] - 3s 3ms/step - loss: 0.3669 - accuracy: 0.8671 - val_loss: 0.3897 - val_accuracy: 0.8557\n",
            "Epoch 18/40\n",
            "782/782 [==============================] - 3s 3ms/step - loss: 0.3635 - accuracy: 0.8673 - val_loss: 0.3970 - val_accuracy: 0.8543\n",
            "Epoch 19/40\n",
            "782/782 [==============================] - 3s 3ms/step - loss: 0.3686 - accuracy: 0.8671 - val_loss: 0.3853 - val_accuracy: 0.8563\n",
            "Epoch 20/40\n",
            "782/782 [==============================] - 3s 3ms/step - loss: 0.3628 - accuracy: 0.8678 - val_loss: 0.3885 - val_accuracy: 0.8521\n",
            "Epoch 21/40\n",
            "782/782 [==============================] - 3s 3ms/step - loss: 0.3640 - accuracy: 0.8700 - val_loss: 0.3861 - val_accuracy: 0.8520\n",
            "Epoch 22/40\n",
            "782/782 [==============================] - 3s 3ms/step - loss: 0.3634 - accuracy: 0.8653 - val_loss: 0.3831 - val_accuracy: 0.8549\n",
            "Epoch 23/40\n",
            "782/782 [==============================] - 3s 3ms/step - loss: 0.3542 - accuracy: 0.8718 - val_loss: 0.3903 - val_accuracy: 0.8517\n",
            "Epoch 24/40\n",
            "782/782 [==============================] - 3s 3ms/step - loss: 0.3563 - accuracy: 0.8682 - val_loss: 0.3845 - val_accuracy: 0.8530\n",
            "Epoch 25/40\n",
            "782/782 [==============================] - 3s 3ms/step - loss: 0.3548 - accuracy: 0.8706 - val_loss: 0.3828 - val_accuracy: 0.8527\n",
            "Epoch 26/40\n",
            "782/782 [==============================] - 3s 3ms/step - loss: 0.3590 - accuracy: 0.8717 - val_loss: 0.4002 - val_accuracy: 0.8466\n",
            "Epoch 27/40\n",
            "782/782 [==============================] - 2s 3ms/step - loss: 0.3590 - accuracy: 0.8652 - val_loss: 0.3851 - val_accuracy: 0.8538\n",
            "Epoch 28/40\n",
            "782/782 [==============================] - 3s 3ms/step - loss: 0.3522 - accuracy: 0.8714 - val_loss: 0.3864 - val_accuracy: 0.8526\n",
            "Epoch 29/40\n",
            "782/782 [==============================] - 3s 3ms/step - loss: 0.3515 - accuracy: 0.8691 - val_loss: 0.3812 - val_accuracy: 0.8545\n",
            "Epoch 30/40\n",
            "782/782 [==============================] - 3s 3ms/step - loss: 0.3578 - accuracy: 0.8686 - val_loss: 0.4043 - val_accuracy: 0.8442\n",
            "Epoch 31/40\n",
            "782/782 [==============================] - 3s 3ms/step - loss: 0.3542 - accuracy: 0.8719 - val_loss: 0.3818 - val_accuracy: 0.8557\n",
            "Epoch 32/40\n",
            "782/782 [==============================] - 3s 4ms/step - loss: 0.3576 - accuracy: 0.8683 - val_loss: 0.3822 - val_accuracy: 0.8570\n",
            "Epoch 33/40\n",
            "782/782 [==============================] - 3s 3ms/step - loss: 0.3547 - accuracy: 0.8697 - val_loss: 0.3924 - val_accuracy: 0.8526\n",
            "Epoch 34/40\n",
            "782/782 [==============================] - 3s 3ms/step - loss: 0.3621 - accuracy: 0.8662 - val_loss: 0.3951 - val_accuracy: 0.8520\n",
            "Model Evaluation\n",
            "391/391 [==============================] - 1s 2ms/step - loss: 0.3615 - accuracy: 0.8647\n"
          ],
          "name": "stdout"
        },
        {
          "output_type": "display_data",
          "data": {
            "image/png": "[encoded data removed]",
            "text/plain": [
              "<Figure size 576x360 with 1 Axes>"
            ]
          },
          "metadata": {
            "tags": [],
            "needs_background": "light"
          }
        }
      ]
    },
    {
      "cell_type": "markdown",
      "metadata": {
        "id": "DCV8pwVzl9GK"
      },
      "source": [
        "## Model Selection\n",
        "\n",
        "Hyperparameters are the parameters of the learning method itself which we have to specify a priori, i.e., before model fitting. In contrast, model parameters are parameters which arise as a result of the fit (the network weights). The aim of model selection is selecting the best hyperparameters for our deep network. Finding the right hyperparameters for a model can be crucial for the model performance on given data. For istance lets consider our model trained by using different values for the learning rate: "
      ]
    },
    {
      "cell_type": "code",
      "metadata": {
        "id": "Fw8Hs-AEmLKh"
      },
      "source": [
        "learning_rates = [1e-4, 1e-2, 1e-1]"
      ],
      "execution_count": null,
      "outputs": []
    },
    {
      "cell_type": "code",
      "metadata": {
        "id": "mym4GOgUmWqD",
        "colab": {
          "base_uri": "https://localhost:8080/"
        },
        "outputId": "9a648d8a-2631-40da-cd93-117d02d31f38"
      },
      "source": [
        "histories = []\n",
        "for learning_rate in learning_rates:\n",
        "    model = keras.models.Sequential([\n",
        "                                    tf.keras.Input(shape=(num_words,)),\n",
        "                                    keras.layers.Dense(16, activation=\"relu\"),\n",
        "                                    keras.layers.Dense(16, activation=\"relu\"),\n",
        "                                    keras.layers.Dense(1, activation=\"sigmoid\")\n",
        "                                     ])\n",
        "    model.compile(loss=\"binary_crossentropy\",\n",
        "              optimizer=keras.optimizers.Adam(learning_rate=learning_rate),\n",
        "              metrics=[\"accuracy\"])\n",
        "              \n",
        "    callbacks = [keras.callbacks.EarlyStopping(patience=2)]\n",
        "\n",
        "    history = model.fit(X_train, y_train,\n",
        "                        validation_data=(X_valid, y_valid), epochs=10,\n",
        "                        callbacks=callbacks)\n",
        "    histories.append(history)\n",
        "    print(\"evaluation on test set\")\n",
        "    model.evaluate(X_test, y_test)"
      ],
      "execution_count": null,
      "outputs": [
        {
          "output_type": "stream",
          "text": [
            "Epoch 1/10\n",
            "782/782 [==============================] - 3s 3ms/step - loss: 0.6627 - accuracy: 0.5891 - val_loss: 0.4692 - val_accuracy: 0.8045\n",
            "Epoch 2/10\n",
            "782/782 [==============================] - 2s 3ms/step - loss: 0.4306 - accuracy: 0.8214 - val_loss: 0.3740 - val_accuracy: 0.8439\n",
            "Epoch 3/10\n",
            "782/782 [==============================] - 2s 3ms/step - loss: 0.3452 - accuracy: 0.8574 - val_loss: 0.3500 - val_accuracy: 0.8537\n",
            "Epoch 4/10\n",
            "782/782 [==============================] - 2s 3ms/step - loss: 0.3214 - accuracy: 0.8676 - val_loss: 0.3398 - val_accuracy: 0.8575\n",
            "Epoch 5/10\n",
            "782/782 [==============================] - 2s 3ms/step - loss: 0.3097 - accuracy: 0.8737 - val_loss: 0.3392 - val_accuracy: 0.8566\n",
            "Epoch 6/10\n",
            "782/782 [==============================] - 2s 3ms/step - loss: 0.3014 - accuracy: 0.8758 - val_loss: 0.3364 - val_accuracy: 0.8560\n",
            "Epoch 7/10\n",
            "782/782 [==============================] - 3s 3ms/step - loss: 0.2932 - accuracy: 0.8797 - val_loss: 0.3369 - val_accuracy: 0.8565\n",
            "Epoch 8/10\n",
            "782/782 [==============================] - 3s 3ms/step - loss: 0.2972 - accuracy: 0.8771 - val_loss: 0.3372 - val_accuracy: 0.8563\n",
            "evaluation on test set\n",
            "391/391 [==============================] - 1s 2ms/step - loss: 0.3176 - accuracy: 0.8655\n",
            "Epoch 1/10\n",
            "782/782 [==============================] - 3s 3ms/step - loss: 0.4165 - accuracy: 0.8014 - val_loss: 0.3391 - val_accuracy: 0.8485\n",
            "Epoch 2/10\n",
            "782/782 [==============================] - 3s 3ms/step - loss: 0.3164 - accuracy: 0.8610 - val_loss: 0.3382 - val_accuracy: 0.8526\n",
            "Epoch 3/10\n",
            "782/782 [==============================] - 2s 3ms/step - loss: 0.2817 - accuracy: 0.8781 - val_loss: 0.3484 - val_accuracy: 0.8469\n",
            "Epoch 4/10\n",
            "782/782 [==============================] - 2s 3ms/step - loss: 0.2730 - accuracy: 0.8835 - val_loss: 0.3628 - val_accuracy: 0.8455\n",
            "evaluation on test set\n",
            "391/391 [==============================] - 1s 2ms/step - loss: 0.3368 - accuracy: 0.8586\n",
            "Epoch 1/10\n",
            "782/782 [==============================] - 3s 3ms/step - loss: 0.5792 - accuracy: 0.7107 - val_loss: 0.3942 - val_accuracy: 0.8329\n",
            "Epoch 2/10\n",
            "782/782 [==============================] - 3s 3ms/step - loss: 0.3867 - accuracy: 0.8365 - val_loss: 0.4154 - val_accuracy: 0.8311\n",
            "Epoch 3/10\n",
            "782/782 [==============================] - 2s 3ms/step - loss: 0.3684 - accuracy: 0.8488 - val_loss: 0.4337 - val_accuracy: 0.8397\n",
            "evaluation on test set\n",
            "391/391 [==============================] - 1s 2ms/step - loss: 0.3986 - accuracy: 0.8553\n"
          ],
          "name": "stdout"
        }
      ]
    },
    {
      "cell_type": "markdown",
      "metadata": {
        "id": "RzTSjfwptkHJ"
      },
      "source": [
        "Let's plot the results"
      ]
    },
    {
      "cell_type": "code",
      "metadata": {
        "id": "cIlN1vlioIYh",
        "colab": {
          "base_uri": "https://localhost:8080/",
          "height": 977
        },
        "outputId": "f76a4ec2-179c-4102-de06-1774353dd524"
      },
      "source": [
        "for learning_rate, history in zip(learning_rates, histories):\n",
        "    print(\"Learning rate:\", learning_rate)\n",
        "    plot_learning_acc_and_loss(history)"
      ],
      "execution_count": null,
      "outputs": [
        {
          "output_type": "stream",
          "text": [
            "Learning rate: 0.0001\n"
          ],
          "name": "stdout"
        },
        {
          "output_type": "display_data",
          "data": {
            "image/png": "[encoded data removed]",
            "text/plain": [
              "<Figure size 576x360 with 1 Axes>"
            ]
          },
          "metadata": {
            "tags": [],
            "needs_background": "light"
          }
        },
        {
          "output_type": "stream",
          "text": [
            "Learning rate: 0.01\n"
          ],
          "name": "stdout"
        },
        {
          "output_type": "display_data",
          "data": {
            "image/png": "[encoded data removed]",
            "text/plain": [
              "<Figure size 576x360 with 1 Axes>"
            ]
          },
          "metadata": {
            "tags": [],
            "needs_background": "light"
          }
        },
        {
          "output_type": "stream",
          "text": [
            "Learning rate: 0.1\n"
          ],
          "name": "stdout"
        },
        {
          "output_type": "display_data",
          "data": {
            "image/png": "[encoded data removed]",
            "text/plain": [
              "<Figure size 576x360 with 1 Axes>"
            ]
          },
          "metadata": {
            "tags": [],
            "needs_background": "light"
          }
        }
      ]
    },
    {
      "cell_type": "markdown",
      "metadata": {
        "id": "_JntujSWq3e5"
      },
      "source": [
        "###Grid Search:\n",
        "\n",
        "Since a deep net has many hyperparameters, in order to find the best ones, we have to consider all the possible combinations of all of the possible values. One common method to perform this complex task is Grid-Search.\n",
        "Given a set of values for each hyper-parameter, Grid-Search will build a model on each parameter combination possible. It iterates through every parameter combination and stores a model for each combination. Finally, the model that obtained the best result on the validation set will be select.\n",
        "\n",
        "In order to perfrom Grid-Search we will use the GridSearchCV method from scikit-learn."
      ]
    },
    {
      "cell_type": "markdown",
      "metadata": {
        "id": "CPz629YSrDhN"
      },
      "source": [
        "Let's Create a build_model() function that takes two arguments, n_neurons, learning_rate, and builds, compiles and returns a model with the given number of neurons and the given learning rate.\n",
        "In order to limit the time requirements of the process we will consider only these two hyper-paramters.\n",
        "\n",
        "in the following code cell define the build_model function."
      ]
    },
    {
      "cell_type": "code",
      "metadata": {
        "id": "oGSKWTTtqxZ4"
      },
      "source": [
        "def build_model(n_units=[30,30], learning_rate=1e-3):\n",
        "    # The function has to build a model similar to the ones we used in previuous execises:\n",
        "    #- a input layer \n",
        "    #- one or two Dense layers composed of n_units and that exploit Relu activation function \n",
        "    #- the output layer that uses the sigmoid activation function\n",
        "    # Then, the model has to be compiled.\n",
        "    model = keras.models.Sequential([\n",
        "      tf.keras.Input(shape=(num_words,)),\n",
        "      keras.layers.Dense(units= n_units[0], activation=\"relu\", kernel_regularizer=tf.keras.regularizers.l1(0.001)),\n",
        "      keras.layers.Dense(units= n_units[1], activation=\"relu\", kernel_regularizer=tf.keras.regularizers.l1(0.001)),\n",
        "      keras.layers.Dense(units= 1, activation=\"sigmoid\")\n",
        "])\n",
        "    #  Then, the model has to be compiled.\n",
        "    model.compile(loss=\"binary_crossentropy\",\n",
        "          optimizer=keras.optimizers.Adam(learning_rate=learning_rate),\n",
        "          metrics=[\"accuracy\"])\n",
        "    return model\n",
        "\n",
        "    \n",
        "#Create a keras.wrappers.scikit_learn.KerasRegressor and pass the build_model \n",
        "#function to the constructor. This gives you a Scikit-Learn compatible predictor\n",
        "keras_reg = keras.wrappers.scikit_learn.KerasRegressor(build_model)"
      ],
      "execution_count": null,
      "outputs": []
    },
    {
      "cell_type": "markdown",
      "metadata": {
        "id": "PS6W3A2LxDg5"
      },
      "source": [
        "Let's define the lists of hyper-parameters' values. Also in this case, we use a very limited size lists, but in a real-world scenario a reasonable amount of possible values should be considered (try to add some values and check how much the time required to perform the Grid-Search increases)"
      ]
    },
    {
      "cell_type": "code",
      "metadata": {
        "id": "y-uldCW3ru24"
      },
      "source": [
        "param_distribs = {\n",
        "    \"n_units\": [(32, 32), (32, 16), (16, 16)],# insert a list that contains few (2 or 3) reasonable value\n",
        "    \"learning_rate\": [(5e-2), (5e-1)] # insert a list that contains few (2 or 3) reasonable values\n",
        "    #Check how the time required to perform GRID search increases when increasing the number of values for each hyper-parameter.\n",
        "}"
      ],
      "execution_count": null,
      "outputs": []
    },
    {
      "cell_type": "markdown",
      "metadata": {
        "id": "bEiBxVYtx_sK"
      },
      "source": [
        "Use a sklearn.model_selection.GridSearchCV to search the hyperparameter space of your KerasRegressor"
      ]
    },
    {
      "cell_type": "code",
      "metadata": {
        "id": "iobF2Bvdr9ER"
      },
      "source": [
        "from sklearn.model_selection import GridSearchCV\n",
        "\n",
        "grid_search = GridSearchCV(keras_reg, param_distribs)"
      ],
      "execution_count": null,
      "outputs": []
    },
    {
      "cell_type": "markdown",
      "metadata": {
        "id": "LVGMcZz_yKSX"
      },
      "source": [
        "Run the Grid-Search"
      ]
    },
    {
      "cell_type": "code",
      "metadata": {
        "id": "-BA3vgTjr-hw",
        "colab": {
          "base_uri": "https://localhost:8080/"
        },
        "outputId": "80cea2a1-ee75-4158-ab12-b8095adf336b"
      },
      "source": [
        "grid_search.fit(X_train.numpy(), y_train, epochs=5,#The number of epochs can be modified (check what happens by increasing it)\n",
        "                validation_data=(X_valid.numpy(), y_valid))"
      ],
      "execution_count": null,
      "outputs": [
        {
          "output_type": "stream",
          "text": [
            "Epoch 1/5\n",
            "625/625 [==============================] - 2s 3ms/step - loss: 1.2002 - accuracy: 0.7276 - val_loss: 0.8123 - val_accuracy: 0.8155\n",
            "Epoch 2/5\n",
            "625/625 [==============================] - 2s 3ms/step - loss: 0.8033 - accuracy: 0.8228 - val_loss: 0.7905 - val_accuracy: 0.8314\n",
            "Epoch 3/5\n",
            "625/625 [==============================] - 2s 3ms/step - loss: 0.8149 - accuracy: 0.8225 - val_loss: 0.8138 - val_accuracy: 0.8168\n",
            "Epoch 4/5\n",
            "625/625 [==============================] - 2s 3ms/step - loss: 0.8171 - accuracy: 0.8195 - val_loss: 0.8396 - val_accuracy: 0.8086\n",
            "Epoch 5/5\n",
            "625/625 [==============================] - 2s 3ms/step - loss: 0.8177 - accuracy: 0.8160 - val_loss: 0.8276 - val_accuracy: 0.8130\n",
            "157/157 [==============================] - 0s 2ms/step - loss: 0.8234 - accuracy: 0.8186\n",
            "Epoch 1/5\n",
            "625/625 [==============================] - 2s 3ms/step - loss: 1.3072 - accuracy: 0.7625 - val_loss: 0.8443 - val_accuracy: 0.8176\n",
            "Epoch 2/5\n",
            "625/625 [==============================] - 2s 3ms/step - loss: 0.8879 - accuracy: 0.8094 - val_loss: 0.8054 - val_accuracy: 0.8208\n",
            "Epoch 3/5\n",
            "625/625 [==============================] - 2s 3ms/step - loss: 0.8547 - accuracy: 0.8052 - val_loss: 0.8344 - val_accuracy: 0.8102\n",
            "Epoch 4/5\n",
            "625/625 [==============================] - 2s 3ms/step - loss: 0.8241 - accuracy: 0.8163 - val_loss: 0.8281 - val_accuracy: 0.8213\n",
            "Epoch 5/5\n",
            "625/625 [==============================] - 2s 3ms/step - loss: 0.8233 - accuracy: 0.8208 - val_loss: 0.8378 - val_accuracy: 0.8084\n",
            "157/157 [==============================] - 0s 2ms/step - loss: 0.8306 - accuracy: 0.8142\n",
            "Epoch 1/5\n",
            "625/625 [==============================] - 2s 3ms/step - loss: 1.2207 - accuracy: 0.7546 - val_loss: 0.8143 - val_accuracy: 0.8268\n",
            "Epoch 2/5\n",
            "625/625 [==============================] - 2s 3ms/step - loss: 0.8442 - accuracy: 0.8098 - val_loss: 0.8249 - val_accuracy: 0.8064\n",
            "Epoch 3/5\n",
            "625/625 [==============================] - 2s 3ms/step - loss: 0.8371 - accuracy: 0.8160 - val_loss: 0.7960 - val_accuracy: 0.8137\n",
            "Epoch 4/5\n",
            "625/625 [==============================] - 2s 3ms/step - loss: 0.8948 - accuracy: 0.8007 - val_loss: 0.8148 - val_accuracy: 0.8163\n",
            "Epoch 5/5\n",
            "625/625 [==============================] - 2s 3ms/step - loss: 0.8039 - accuracy: 0.8248 - val_loss: 0.7988 - val_accuracy: 0.8186\n",
            "157/157 [==============================] - 0s 2ms/step - loss: 0.7957 - accuracy: 0.8272\n",
            "Epoch 1/5\n",
            "625/625 [==============================] - 2s 3ms/step - loss: 1.1180 - accuracy: 0.7436 - val_loss: 0.7964 - val_accuracy: 0.8230\n",
            "Epoch 2/5\n",
            "625/625 [==============================] - 2s 3ms/step - loss: 0.8071 - accuracy: 0.8195 - val_loss: 0.8032 - val_accuracy: 0.8166\n",
            "Epoch 3/5\n",
            "625/625 [==============================] - 2s 3ms/step - loss: 0.8223 - accuracy: 0.8134 - val_loss: 0.7994 - val_accuracy: 0.8243\n",
            "Epoch 4/5\n",
            "625/625 [==============================] - 2s 3ms/step - loss: 0.8171 - accuracy: 0.8154 - val_loss: 0.8070 - val_accuracy: 0.8130\n",
            "Epoch 5/5\n",
            "625/625 [==============================] - 2s 3ms/step - loss: 0.8086 - accuracy: 0.8209 - val_loss: 0.8227 - val_accuracy: 0.8138\n",
            "157/157 [==============================] - 0s 2ms/step - loss: 0.8071 - accuracy: 0.8232\n",
            "Epoch 1/5\n",
            "625/625 [==============================] - 2s 3ms/step - loss: 1.2328 - accuracy: 0.7577 - val_loss: 0.8247 - val_accuracy: 0.8037\n",
            "Epoch 2/5\n",
            "625/625 [==============================] - 2s 3ms/step - loss: 0.8338 - accuracy: 0.8049 - val_loss: 0.8099 - val_accuracy: 0.8130\n",
            "Epoch 3/5\n",
            "625/625 [==============================] - 2s 3ms/step - loss: 0.8296 - accuracy: 0.8133 - val_loss: 0.7989 - val_accuracy: 0.8210\n",
            "Epoch 4/5\n",
            "625/625 [==============================] - 2s 3ms/step - loss: 0.8379 - accuracy: 0.8093 - val_loss: 0.8805 - val_accuracy: 0.8185\n",
            "Epoch 5/5\n",
            "625/625 [==============================] - 2s 3ms/step - loss: 0.8513 - accuracy: 0.8166 - val_loss: 0.8141 - val_accuracy: 0.8225\n",
            "157/157 [==============================] - 0s 2ms/step - loss: 0.8019 - accuracy: 0.8298\n",
            "Epoch 1/5\n",
            "625/625 [==============================] - 2s 3ms/step - loss: 1.2648 - accuracy: 0.7672 - val_loss: 0.7971 - val_accuracy: 0.8206\n",
            "Epoch 2/5\n",
            "625/625 [==============================] - 2s 3ms/step - loss: 0.8000 - accuracy: 0.8213 - val_loss: 0.8211 - val_accuracy: 0.8202\n",
            "Epoch 3/5\n",
            "625/625 [==============================] - 2s 3ms/step - loss: 0.8205 - accuracy: 0.8173 - val_loss: 0.7902 - val_accuracy: 0.8170\n",
            "Epoch 4/5\n",
            "625/625 [==============================] - 2s 3ms/step - loss: 0.8015 - accuracy: 0.8188 - val_loss: 0.8075 - val_accuracy: 0.8190\n",
            "Epoch 5/5\n",
            "625/625 [==============================] - 2s 3ms/step - loss: 0.8132 - accuracy: 0.8232 - val_loss: 0.8364 - val_accuracy: 0.8091\n",
            "157/157 [==============================] - 0s 2ms/step - loss: 0.8299 - accuracy: 0.8154\n",
            "Epoch 1/5\n",
            "625/625 [==============================] - 2s 3ms/step - loss: 1.1748 - accuracy: 0.7655 - val_loss: 0.8138 - val_accuracy: 0.8108\n",
            "Epoch 2/5\n",
            "625/625 [==============================] - 2s 3ms/step - loss: 0.8068 - accuracy: 0.8232 - val_loss: 0.7671 - val_accuracy: 0.8310\n",
            "Epoch 3/5\n",
            "625/625 [==============================] - 2s 3ms/step - loss: 0.8111 - accuracy: 0.8185 - val_loss: 0.8052 - val_accuracy: 0.8122\n",
            "Epoch 4/5\n",
            "625/625 [==============================] - 2s 3ms/step - loss: 0.8194 - accuracy: 0.8123 - val_loss: 0.8267 - val_accuracy: 0.8083\n",
            "Epoch 5/5\n",
            "625/625 [==============================] - 2s 3ms/step - loss: 0.8085 - accuracy: 0.8217 - val_loss: 0.8075 - val_accuracy: 0.8224\n",
            "157/157 [==============================] - 0s 2ms/step - loss: 0.8005 - accuracy: 0.8294\n",
            "Epoch 1/5\n",
            "625/625 [==============================] - 2s 3ms/step - loss: 1.2145 - accuracy: 0.7577 - val_loss: 0.8325 - val_accuracy: 0.8190\n",
            "Epoch 2/5\n",
            "625/625 [==============================] - 2s 3ms/step - loss: 0.8321 - accuracy: 0.8105 - val_loss: 0.8072 - val_accuracy: 0.8244\n",
            "Epoch 3/5\n",
            "625/625 [==============================] - 2s 3ms/step - loss: 0.8197 - accuracy: 0.8163 - val_loss: 0.8223 - val_accuracy: 0.8194\n",
            "Epoch 4/5\n",
            "625/625 [==============================] - 2s 3ms/step - loss: 0.8236 - accuracy: 0.8147 - val_loss: 0.8117 - val_accuracy: 0.8196\n",
            "Epoch 5/5\n",
            "625/625 [==============================] - 2s 3ms/step - loss: 0.8159 - accuracy: 0.8191 - val_loss: 0.8622 - val_accuracy: 0.8083\n",
            "157/157 [==============================] - 0s 2ms/step - loss: 0.8598 - accuracy: 0.8088\n",
            "Epoch 1/5\n",
            "625/625 [==============================] - 2s 3ms/step - loss: 1.3429 - accuracy: 0.7580 - val_loss: 0.9061 - val_accuracy: 0.8082\n",
            "Epoch 2/5\n",
            "625/625 [==============================] - 2s 3ms/step - loss: 0.8673 - accuracy: 0.8099 - val_loss: 0.8191 - val_accuracy: 0.8146\n",
            "Epoch 3/5\n",
            "625/625 [==============================] - 2s 3ms/step - loss: 0.8265 - accuracy: 0.8079 - val_loss: 0.8287 - val_accuracy: 0.8147\n",
            "Epoch 4/5\n",
            "625/625 [==============================] - 2s 3ms/step - loss: 0.8168 - accuracy: 0.8185 - val_loss: 0.8188 - val_accuracy: 0.8100\n",
            "Epoch 5/5\n",
            "625/625 [==============================] - 2s 3ms/step - loss: 0.8099 - accuracy: 0.8239 - val_loss: 0.8280 - val_accuracy: 0.8140\n",
            "157/157 [==============================] - 0s 2ms/step - loss: 0.8111 - accuracy: 0.8250\n",
            "Epoch 1/5\n",
            "625/625 [==============================] - 3s 3ms/step - loss: 1.2644 - accuracy: 0.7239 - val_loss: 0.7851 - val_accuracy: 0.8203\n",
            "Epoch 2/5\n",
            "625/625 [==============================] - 2s 3ms/step - loss: 0.8003 - accuracy: 0.8152 - val_loss: 0.7757 - val_accuracy: 0.8250\n",
            "Epoch 3/5\n",
            "625/625 [==============================] - 2s 3ms/step - loss: 0.7975 - accuracy: 0.8185 - val_loss: 0.7710 - val_accuracy: 0.8277\n",
            "Epoch 4/5\n",
            "625/625 [==============================] - 2s 3ms/step - loss: 0.7992 - accuracy: 0.8167 - val_loss: 0.7925 - val_accuracy: 0.8221\n",
            "Epoch 5/5\n",
            "625/625 [==============================] - 2s 3ms/step - loss: 0.7864 - accuracy: 0.8251 - val_loss: 0.7826 - val_accuracy: 0.8246\n",
            "157/157 [==============================] - 0s 2ms/step - loss: 0.7756 - accuracy: 0.8294\n",
            "Epoch 1/5\n",
            "625/625 [==============================] - 2s 3ms/step - loss: 1.0183 - accuracy: 0.7599 - val_loss: 0.7386 - val_accuracy: 0.8132\n",
            "Epoch 2/5\n",
            "625/625 [==============================] - 2s 3ms/step - loss: 0.7280 - accuracy: 0.8191 - val_loss: 0.7608 - val_accuracy: 0.8034\n",
            "Epoch 3/5\n",
            "625/625 [==============================] - 2s 3ms/step - loss: 0.7268 - accuracy: 0.8191 - val_loss: 0.7283 - val_accuracy: 0.8187\n",
            "Epoch 4/5\n",
            "625/625 [==============================] - 2s 3ms/step - loss: 0.7188 - accuracy: 0.8188 - val_loss: 0.8312 - val_accuracy: 0.7502\n",
            "Epoch 5/5\n",
            "625/625 [==============================] - 2s 3ms/step - loss: 0.7346 - accuracy: 0.8148 - val_loss: 0.7451 - val_accuracy: 0.8114\n",
            "157/157 [==============================] - 0s 2ms/step - loss: 0.7338 - accuracy: 0.8220\n",
            "Epoch 1/5\n",
            "625/625 [==============================] - 2s 3ms/step - loss: 0.9931 - accuracy: 0.7182 - val_loss: 0.7381 - val_accuracy: 0.8072\n",
            "Epoch 2/5\n",
            "625/625 [==============================] - 2s 3ms/step - loss: 0.7246 - accuracy: 0.8175 - val_loss: 0.7439 - val_accuracy: 0.8062\n",
            "Epoch 3/5\n",
            "625/625 [==============================] - 2s 3ms/step - loss: 0.7358 - accuracy: 0.8124 - val_loss: 0.7138 - val_accuracy: 0.8184\n",
            "Epoch 4/5\n",
            "625/625 [==============================] - 2s 3ms/step - loss: 0.7260 - accuracy: 0.8168 - val_loss: 0.7095 - val_accuracy: 0.8220\n",
            "Epoch 5/5\n",
            "625/625 [==============================] - 2s 3ms/step - loss: 0.7282 - accuracy: 0.8167 - val_loss: 0.7823 - val_accuracy: 0.7744\n",
            "157/157 [==============================] - 0s 2ms/step - loss: 0.7780 - accuracy: 0.7806\n",
            "Epoch 1/5\n",
            "625/625 [==============================] - 2s 3ms/step - loss: 1.0312 - accuracy: 0.7524 - val_loss: 0.7163 - val_accuracy: 0.8042\n",
            "Epoch 2/5\n",
            "625/625 [==============================] - 2s 3ms/step - loss: 0.7255 - accuracy: 0.8100 - val_loss: 0.7074 - val_accuracy: 0.8240\n",
            "Epoch 3/5\n",
            "625/625 [==============================] - 2s 3ms/step - loss: 0.7365 - accuracy: 0.8136 - val_loss: 0.6932 - val_accuracy: 0.8232\n",
            "Epoch 4/5\n",
            "625/625 [==============================] - 2s 3ms/step - loss: 0.7450 - accuracy: 0.8008 - val_loss: 0.7060 - val_accuracy: 0.8234\n",
            "Epoch 5/5\n",
            "625/625 [==============================] - 2s 3ms/step - loss: 0.7275 - accuracy: 0.8154 - val_loss: 0.7353 - val_accuracy: 0.8110\n",
            "157/157 [==============================] - 0s 2ms/step - loss: 0.7326 - accuracy: 0.8080\n",
            "Epoch 1/5\n",
            "625/625 [==============================] - 2s 3ms/step - loss: 0.9750 - accuracy: 0.7756 - val_loss: 0.7525 - val_accuracy: 0.8201\n",
            "Epoch 2/5\n",
            "625/625 [==============================] - 2s 3ms/step - loss: 0.7392 - accuracy: 0.8182 - val_loss: 0.7607 - val_accuracy: 0.7894\n",
            "Epoch 3/5\n",
            "625/625 [==============================] - 2s 3ms/step - loss: 0.7309 - accuracy: 0.8130 - val_loss: 0.7328 - val_accuracy: 0.8096\n",
            "Epoch 4/5\n",
            "625/625 [==============================] - 2s 3ms/step - loss: 0.7230 - accuracy: 0.8176 - val_loss: 0.7353 - val_accuracy: 0.7994\n",
            "Epoch 5/5\n",
            "625/625 [==============================] - 2s 3ms/step - loss: 0.7135 - accuracy: 0.8237 - val_loss: 0.7451 - val_accuracy: 0.8134\n",
            "157/157 [==============================] - 0s 2ms/step - loss: 0.7420 - accuracy: 0.8152\n",
            "Epoch 1/5\n",
            "625/625 [==============================] - 2s 3ms/step - loss: 1.0089 - accuracy: 0.7661 - val_loss: 0.7343 - val_accuracy: 0.8111\n",
            "Epoch 2/5\n",
            "625/625 [==============================] - 2s 3ms/step - loss: 0.7314 - accuracy: 0.8118 - val_loss: 0.6944 - val_accuracy: 0.8265\n",
            "Epoch 3/5\n",
            "625/625 [==============================] - 2s 3ms/step - loss: 0.7186 - accuracy: 0.8153 - val_loss: 0.6924 - val_accuracy: 0.8226\n",
            "Epoch 4/5\n",
            "625/625 [==============================] - 2s 3ms/step - loss: 0.7284 - accuracy: 0.8160 - val_loss: 0.7168 - val_accuracy: 0.8210\n",
            "Epoch 5/5\n",
            "625/625 [==============================] - 2s 3ms/step - loss: 0.7134 - accuracy: 0.8257 - val_loss: 0.7341 - val_accuracy: 0.8114\n",
            "157/157 [==============================] - 0s 2ms/step - loss: 0.7284 - accuracy: 0.8192\n",
            "Epoch 1/5\n",
            "625/625 [==============================] - 2s 3ms/step - loss: 29.6235 - accuracy: 0.4996 - val_loss: 2.3578 - val_accuracy: 0.5053\n",
            "Epoch 2/5\n",
            "625/625 [==============================] - 2s 3ms/step - loss: 2.2835 - accuracy: 0.5049 - val_loss: 1.9823 - val_accuracy: 0.4947\n",
            "Epoch 3/5\n",
            "625/625 [==============================] - 2s 3ms/step - loss: 2.0219 - accuracy: 0.5034 - val_loss: 2.0793 - val_accuracy: 0.4947\n",
            "Epoch 4/5\n",
            "625/625 [==============================] - 2s 3ms/step - loss: 2.0314 - accuracy: 0.4963 - val_loss: 2.1423 - val_accuracy: 0.5053\n",
            "Epoch 5/5\n",
            "625/625 [==============================] - 2s 3ms/step - loss: 2.0988 - accuracy: 0.5023 - val_loss: 2.1157 - val_accuracy: 0.4947\n",
            "157/157 [==============================] - 0s 2ms/step - loss: 2.1103 - accuracy: 0.5092\n",
            "Epoch 1/5\n",
            "625/625 [==============================] - 2s 3ms/step - loss: 24.1790 - accuracy: 0.4964 - val_loss: 2.4317 - val_accuracy: 0.5053\n",
            "Epoch 2/5\n",
            "625/625 [==============================] - 2s 3ms/step - loss: 2.4288 - accuracy: 0.4969 - val_loss: 2.1350 - val_accuracy: 0.4947\n",
            "Epoch 3/5\n",
            "625/625 [==============================] - 2s 3ms/step - loss: 2.1767 - accuracy: 0.5001 - val_loss: 2.2543 - val_accuracy: 0.4947\n",
            "Epoch 4/5\n",
            "625/625 [==============================] - 2s 3ms/step - loss: 2.1725 - accuracy: 0.4971 - val_loss: 2.2928 - val_accuracy: 0.5053\n",
            "Epoch 5/5\n",
            "625/625 [==============================] - 2s 3ms/step - loss: 2.2420 - accuracy: 0.5026 - val_loss: 2.2527 - val_accuracy: 0.4947\n",
            "157/157 [==============================] - 0s 2ms/step - loss: 2.2502 - accuracy: 0.5014\n",
            "Epoch 1/5\n",
            "625/625 [==============================] - 2s 3ms/step - loss: 21.7912 - accuracy: 0.5001 - val_loss: 2.4956 - val_accuracy: 0.5053\n",
            "Epoch 2/5\n",
            "625/625 [==============================] - 2s 3ms/step - loss: 2.8580 - accuracy: 0.4996 - val_loss: 2.0728 - val_accuracy: 0.4947\n",
            "Epoch 3/5\n",
            "625/625 [==============================] - 2s 3ms/step - loss: 2.1158 - accuracy: 0.5001 - val_loss: 2.1773 - val_accuracy: 0.5053\n",
            "Epoch 4/5\n",
            "625/625 [==============================] - 2s 3ms/step - loss: 2.1208 - accuracy: 0.5003 - val_loss: 2.2274 - val_accuracy: 0.5053\n",
            "Epoch 5/5\n",
            "625/625 [==============================] - 2s 3ms/step - loss: 2.1914 - accuracy: 0.4976 - val_loss: 2.2012 - val_accuracy: 0.4947\n",
            "157/157 [==============================] - 0s 2ms/step - loss: 2.2011 - accuracy: 0.4960\n",
            "Epoch 1/5\n",
            "625/625 [==============================] - 3s 3ms/step - loss: 15.5044 - accuracy: 0.5026 - val_loss: 2.2293 - val_accuracy: 0.5053\n",
            "Epoch 2/5\n",
            "625/625 [==============================] - 2s 3ms/step - loss: 2.2448 - accuracy: 0.4924 - val_loss: 2.1688 - val_accuracy: 0.5053\n",
            "Epoch 3/5\n",
            "625/625 [==============================] - 2s 3ms/step - loss: 2.2370 - accuracy: 0.4984 - val_loss: 2.3406 - val_accuracy: 0.4947\n",
            "Epoch 4/5\n",
            "625/625 [==============================] - 2s 3ms/step - loss: 2.3055 - accuracy: 0.5033 - val_loss: 2.3883 - val_accuracy: 0.4947\n",
            "Epoch 5/5\n",
            "625/625 [==============================] - 2s 3ms/step - loss: 2.3668 - accuracy: 0.4993 - val_loss: 2.3763 - val_accuracy: 0.4947\n",
            "157/157 [==============================] - 0s 2ms/step - loss: 2.3755 - accuracy: 0.4996\n",
            "Epoch 1/5\n",
            "625/625 [==============================] - 2s 3ms/step - loss: 31.3906 - accuracy: 0.5030 - val_loss: 2.4056 - val_accuracy: 0.5053\n",
            "Epoch 2/5\n",
            "625/625 [==============================] - 2s 3ms/step - loss: 2.2940 - accuracy: 0.4916 - val_loss: 2.0639 - val_accuracy: 0.5053\n",
            "Epoch 3/5\n",
            "625/625 [==============================] - 2s 3ms/step - loss: 2.0918 - accuracy: 0.4947 - val_loss: 2.1275 - val_accuracy: 0.4947\n",
            "Epoch 4/5\n",
            "625/625 [==============================] - 2s 3ms/step - loss: 2.0756 - accuracy: 0.4978 - val_loss: 2.1254 - val_accuracy: 0.4947\n",
            "Epoch 5/5\n",
            "625/625 [==============================] - 2s 3ms/step - loss: 2.1092 - accuracy: 0.5048 - val_loss: 2.1179 - val_accuracy: 0.5053\n",
            "157/157 [==============================] - 0s 2ms/step - loss: 2.1178 - accuracy: 0.5062\n",
            "Epoch 1/5\n",
            "625/625 [==============================] - 2s 3ms/step - loss: 17.4517 - accuracy: 0.4979 - val_loss: 2.1060 - val_accuracy: 0.5053\n",
            "Epoch 2/5\n",
            "625/625 [==============================] - 2s 3ms/step - loss: 2.2065 - accuracy: 0.5055 - val_loss: 2.1333 - val_accuracy: 0.4947\n",
            "Epoch 3/5\n",
            "625/625 [==============================] - 2s 3ms/step - loss: 2.1891 - accuracy: 0.5041 - val_loss: 2.2818 - val_accuracy: 0.4947\n",
            "Epoch 4/5\n",
            "625/625 [==============================] - 2s 3ms/step - loss: 2.2203 - accuracy: 0.4963 - val_loss: 2.3354 - val_accuracy: 0.5053\n",
            "Epoch 5/5\n",
            "625/625 [==============================] - 2s 3ms/step - loss: 2.2883 - accuracy: 0.5025 - val_loss: 2.2847 - val_accuracy: 0.4947\n",
            "157/157 [==============================] - 0s 2ms/step - loss: 2.2793 - accuracy: 0.5092\n",
            "Epoch 1/5\n",
            "625/625 [==============================] - 2s 3ms/step - loss: 19.1969 - accuracy: 0.4932 - val_loss: 2.1188 - val_accuracy: 0.5053\n",
            "Epoch 2/5\n",
            "625/625 [==============================] - 2s 3ms/step - loss: 2.2137 - accuracy: 0.4970 - val_loss: 2.1333 - val_accuracy: 0.4947\n",
            "Epoch 3/5\n",
            "625/625 [==============================] - 2s 3ms/step - loss: 2.1865 - accuracy: 0.4999 - val_loss: 2.2760 - val_accuracy: 0.4947\n",
            "Epoch 4/5\n",
            "625/625 [==============================] - 2s 3ms/step - loss: 2.2191 - accuracy: 0.4971 - val_loss: 2.3264 - val_accuracy: 0.5053\n",
            "Epoch 5/5\n",
            "625/625 [==============================] - 2s 3ms/step - loss: 2.2886 - accuracy: 0.5026 - val_loss: 2.3082 - val_accuracy: 0.4947\n",
            "157/157 [==============================] - 0s 2ms/step - loss: 2.3056 - accuracy: 0.5014\n",
            "Epoch 1/5\n",
            "625/625 [==============================] - 2s 3ms/step - loss: 14.8068 - accuracy: 0.5073 - val_loss: 2.1815 - val_accuracy: 0.5053\n",
            "Epoch 2/5\n",
            "625/625 [==============================] - 2s 3ms/step - loss: 2.2305 - accuracy: 0.4985 - val_loss: 2.1448 - val_accuracy: 0.4947\n",
            "Epoch 3/5\n",
            "625/625 [==============================] - 2s 3ms/step - loss: 2.1841 - accuracy: 0.4971 - val_loss: 2.2762 - val_accuracy: 0.5053\n",
            "Epoch 4/5\n",
            "625/625 [==============================] - 2s 3ms/step - loss: 2.2513 - accuracy: 0.4994 - val_loss: 2.3431 - val_accuracy: 0.5053\n",
            "Epoch 5/5\n",
            "625/625 [==============================] - 2s 3ms/step - loss: 2.3205 - accuracy: 0.4984 - val_loss: 2.3216 - val_accuracy: 0.4947\n",
            "157/157 [==============================] - 0s 2ms/step - loss: 2.3215 - accuracy: 0.4960\n",
            "Epoch 1/5\n",
            "625/625 [==============================] - 2s 3ms/step - loss: 12.9251 - accuracy: 0.5060 - val_loss: 2.1598 - val_accuracy: 0.5053\n",
            "Epoch 2/5\n",
            "625/625 [==============================] - 2s 3ms/step - loss: 2.2282 - accuracy: 0.4922 - val_loss: 2.1952 - val_accuracy: 0.5053\n",
            "Epoch 3/5\n",
            "625/625 [==============================] - 2s 3ms/step - loss: 2.2560 - accuracy: 0.4982 - val_loss: 2.3370 - val_accuracy: 0.4947\n",
            "Epoch 4/5\n",
            "625/625 [==============================] - 2s 3ms/step - loss: 2.3193 - accuracy: 0.5034 - val_loss: 2.4025 - val_accuracy: 0.4947\n",
            "Epoch 5/5\n",
            "625/625 [==============================] - 2s 3ms/step - loss: 2.3754 - accuracy: 0.4993 - val_loss: 2.3742 - val_accuracy: 0.4947\n",
            "157/157 [==============================] - 0s 2ms/step - loss: 2.3733 - accuracy: 0.4996\n",
            "Epoch 1/5\n",
            "625/625 [==============================] - 2s 3ms/step - loss: 14.7690 - accuracy: 0.5005 - val_loss: 2.1320 - val_accuracy: 0.5053\n",
            "Epoch 2/5\n",
            "625/625 [==============================] - 2s 3ms/step - loss: 2.2298 - accuracy: 0.4911 - val_loss: 2.1969 - val_accuracy: 0.5053\n",
            "Epoch 3/5\n",
            "625/625 [==============================] - 2s 3ms/step - loss: 2.2482 - accuracy: 0.4944 - val_loss: 2.3443 - val_accuracy: 0.4947\n",
            "Epoch 4/5\n",
            "625/625 [==============================] - 2s 3ms/step - loss: 2.3007 - accuracy: 0.4992 - val_loss: 2.3796 - val_accuracy: 0.4947\n",
            "Epoch 5/5\n",
            "625/625 [==============================] - 2s 3ms/step - loss: 2.3424 - accuracy: 0.5045 - val_loss: 2.3349 - val_accuracy: 0.5053\n",
            "157/157 [==============================] - 0s 2ms/step - loss: 2.3349 - accuracy: 0.5062\n",
            "Epoch 1/5\n",
            "625/625 [==============================] - 2s 3ms/step - loss: 11.2239 - accuracy: 0.5056 - val_loss: 1.3655 - val_accuracy: 0.5053\n",
            "Epoch 2/5\n",
            "625/625 [==============================] - 2s 3ms/step - loss: 1.3750 - accuracy: 0.5033 - val_loss: 1.3235 - val_accuracy: 0.4947\n",
            "Epoch 3/5\n",
            "625/625 [==============================] - 2s 3ms/step - loss: 1.3471 - accuracy: 0.5047 - val_loss: 1.3870 - val_accuracy: 0.4947\n",
            "Epoch 4/5\n",
            "625/625 [==============================] - 2s 3ms/step - loss: 1.3844 - accuracy: 0.4961 - val_loss: 1.4492 - val_accuracy: 0.5053\n",
            "Epoch 5/5\n",
            "625/625 [==============================] - 2s 3ms/step - loss: 1.4400 - accuracy: 0.5030 - val_loss: 1.4682 - val_accuracy: 0.4947\n",
            "157/157 [==============================] - 0s 2ms/step - loss: 1.4627 - accuracy: 0.5092\n",
            "Epoch 1/5\n",
            "625/625 [==============================] - 2s 3ms/step - loss: 8.4347 - accuracy: 0.5006 - val_loss: 1.3872 - val_accuracy: 0.5053\n",
            "Epoch 2/5\n",
            "625/625 [==============================] - 2s 3ms/step - loss: 1.4282 - accuracy: 0.4997 - val_loss: 1.3824 - val_accuracy: 0.4947\n",
            "Epoch 3/5\n",
            "625/625 [==============================] - 2s 3ms/step - loss: 1.4163 - accuracy: 0.4999 - val_loss: 1.4577 - val_accuracy: 0.4947\n",
            "Epoch 4/5\n",
            "625/625 [==============================] - 2s 3ms/step - loss: 1.4409 - accuracy: 0.4974 - val_loss: 1.4987 - val_accuracy: 0.5053\n",
            "Epoch 5/5\n",
            "625/625 [==============================] - 2s 3ms/step - loss: 1.4787 - accuracy: 0.5026 - val_loss: 1.4910 - val_accuracy: 0.4947\n",
            "157/157 [==============================] - 0s 2ms/step - loss: 1.4885 - accuracy: 0.5014\n",
            "Epoch 1/5\n",
            "625/625 [==============================] - 3s 3ms/step - loss: 5.4214 - accuracy: 0.4974 - val_loss: 1.4674 - val_accuracy: 0.5053\n",
            "Epoch 2/5\n",
            "625/625 [==============================] - 2s 3ms/step - loss: 1.5103 - accuracy: 0.4972 - val_loss: 1.4653 - val_accuracy: 0.4947\n",
            "Epoch 3/5\n",
            "625/625 [==============================] - 2s 3ms/step - loss: 1.5092 - accuracy: 0.4967 - val_loss: 1.5600 - val_accuracy: 0.5053\n",
            "Epoch 4/5\n",
            "625/625 [==============================] - 2s 3ms/step - loss: 1.5378 - accuracy: 0.4984 - val_loss: 1.5720 - val_accuracy: 0.5053\n",
            "Epoch 5/5\n",
            "625/625 [==============================] - 2s 3ms/step - loss: 1.5615 - accuracy: 0.4990 - val_loss: 1.5554 - val_accuracy: 0.4947\n",
            "157/157 [==============================] - 0s 2ms/step - loss: 1.5552 - accuracy: 0.4960\n",
            "Epoch 1/5\n",
            "625/625 [==============================] - 2s 3ms/step - loss: 6.7732 - accuracy: 0.5044 - val_loss: 1.4333 - val_accuracy: 0.5053\n",
            "Epoch 2/5\n",
            "625/625 [==============================] - 2s 3ms/step - loss: 1.4547 - accuracy: 0.4924 - val_loss: 1.4226 - val_accuracy: 0.5053\n",
            "Epoch 3/5\n",
            "625/625 [==============================] - 2s 3ms/step - loss: 1.4571 - accuracy: 0.4984 - val_loss: 1.5007 - val_accuracy: 0.4947\n",
            "Epoch 4/5\n",
            "625/625 [==============================] - 2s 3ms/step - loss: 1.4989 - accuracy: 0.5033 - val_loss: 1.5310 - val_accuracy: 0.4947\n",
            "Epoch 5/5\n",
            "625/625 [==============================] - 2s 3ms/step - loss: 1.5305 - accuracy: 0.4993 - val_loss: 1.5396 - val_accuracy: 0.4947\n",
            "157/157 [==============================] - 0s 2ms/step - loss: 1.5387 - accuracy: 0.4996\n",
            "Epoch 1/5\n",
            "625/625 [==============================] - 2s 3ms/step - loss: 11.1297 - accuracy: 0.4934 - val_loss: 1.3917 - val_accuracy: 0.5053\n",
            "Epoch 2/5\n",
            "625/625 [==============================] - 2s 3ms/step - loss: 1.4291 - accuracy: 0.4911 - val_loss: 1.3748 - val_accuracy: 0.5053\n",
            "Epoch 3/5\n",
            "625/625 [==============================] - 2s 3ms/step - loss: 1.3894 - accuracy: 0.4942 - val_loss: 1.4432 - val_accuracy: 0.4947\n",
            "Epoch 4/5\n",
            "625/625 [==============================] - 2s 3ms/step - loss: 1.4142 - accuracy: 0.5005 - val_loss: 1.4525 - val_accuracy: 0.4947\n",
            "Epoch 5/5\n",
            "625/625 [==============================] - 2s 3ms/step - loss: 1.4499 - accuracy: 0.5044 - val_loss: 1.4491 - val_accuracy: 0.5053\n",
            "157/157 [==============================] - 0s 2ms/step - loss: 1.4491 - accuracy: 0.5062\n",
            "Epoch 1/5\n",
            "782/782 [==============================] - 3s 3ms/step - loss: 0.9735 - accuracy: 0.7724 - val_loss: 0.7605 - val_accuracy: 0.8234\n",
            "Epoch 2/5\n",
            "782/782 [==============================] - 3s 3ms/step - loss: 0.7682 - accuracy: 0.8098 - val_loss: 0.7321 - val_accuracy: 0.8177\n",
            "Epoch 3/5\n",
            "782/782 [==============================] - 3s 3ms/step - loss: 0.7225 - accuracy: 0.8210 - val_loss: 0.7461 - val_accuracy: 0.7942\n",
            "Epoch 4/5\n",
            "782/782 [==============================] - 3s 3ms/step - loss: 0.7315 - accuracy: 0.8085 - val_loss: 0.7233 - val_accuracy: 0.8117\n",
            "Epoch 5/5\n",
            "782/782 [==============================] - 3s 3ms/step - loss: 0.7288 - accuracy: 0.8145 - val_loss: 0.7028 - val_accuracy: 0.8197\n"
          ],
          "name": "stdout"
        },
        {
          "output_type": "execute_result",
          "data": {
            "text/plain": [
              "GridSearchCV(cv=None, error_score=nan,\n",
              "             estimator=<tensorflow.python.keras.wrappers.scikit_learn.KerasRegressor object at 0x7fa514661450>,\n",
              "             iid='deprecated', n_jobs=None,\n",
              "             param_grid={'learning_rate': [0.05, 0.5],\n",
              "                         'n_units': [(32, 32), (32, 16), (16, 16)]},\n",
              "             pre_dispatch='2*n_jobs', refit=True, return_train_score=False,\n",
              "             scoring=None, verbose=0)"
            ]
          },
          "metadata": {
            "tags": []
          },
          "execution_count": 49
        }
      ]
    },
    {
      "cell_type": "markdown",
      "metadata": {
        "id": "aadmkiOoyM94"
      },
      "source": [
        "Print the best hyper-parameters, and evealuate the best model on the test set."
      ]
    },
    {
      "cell_type": "code",
      "metadata": {
        "id": "b0nL5OZkylNX",
        "colab": {
          "base_uri": "https://localhost:8080/"
        },
        "outputId": "74c5578d-f324-41ce-bcaf-077b73005692"
      },
      "source": [
        "print(grid_search.best_params_)\n",
        "\n",
        "model = grid_search.best_estimator_.model\n",
        "model.evaluate(X_test, y_test)"
      ],
      "execution_count": null,
      "outputs": [
        {
          "output_type": "stream",
          "text": [
            "{'learning_rate': 0.05, 'n_units': (16, 16)}\n",
            "391/391 [==============================] - 1s 2ms/step - loss: 0.6911 - accuracy: 0.8271\n"
          ],
          "name": "stdout"
        },
        {
          "output_type": "execute_result",
          "data": {
            "text/plain": [
              "[0.6911125779151917, 0.8271200060844421]"
            ]
          },
          "metadata": {
            "tags": []
          },
          "execution_count": 50
        }
      ]
    }
  ]
}